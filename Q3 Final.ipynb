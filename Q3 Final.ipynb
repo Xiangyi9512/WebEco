{
 "cells": [
  {
   "cell_type": "code",
   "execution_count": 1,
   "metadata": {
    "collapsed": true
   },
   "outputs": [],
   "source": [
    "import pandas as pd\n",
    "train = pd.read_csv('..\\\\Coursework\\\\Dataset\\\\train.csv', usecols=[\"click\",\"weekday\",\"hour\",\"useragent\",\"slotprice\",\"advertiser\"])\n",
    "validation = pd.read_csv('..\\\\Coursework\\\\Dataset\\\\validation.csv', usecols=[\"click\",\"weekday\",\"hour\",\"useragent\",\"slotprice\",\"advertiser\",\"usertag\"])\n",
    "test = pd.read_csv('..\\\\Coursework\\\\Dataset\\\\test.csv', usecols=[\"weekday\",\"hour\",\"useragent\",\"slotprice\",\"advertiser\",\"usertag\"])"
   ]
  },
  {
   "cell_type": "code",
   "execution_count": 2,
   "metadata": {},
   "outputs": [
    {
     "data": {
      "text/html": [
       "<div>\n",
       "<style scoped>\n",
       "    .dataframe tbody tr th:only-of-type {\n",
       "        vertical-align: middle;\n",
       "    }\n",
       "\n",
       "    .dataframe tbody tr th {\n",
       "        vertical-align: top;\n",
       "    }\n",
       "\n",
       "    .dataframe thead th {\n",
       "        text-align: right;\n",
       "    }\n",
       "</style>\n",
       "<table border=\"1\" class=\"dataframe\">\n",
       "  <thead>\n",
       "    <tr style=\"text-align: right;\">\n",
       "      <th></th>\n",
       "      <th>click</th>\n",
       "      <th>weekday</th>\n",
       "      <th>hour</th>\n",
       "      <th>useragent</th>\n",
       "      <th>slotprice</th>\n",
       "      <th>advertiser</th>\n",
       "      <th>os</th>\n",
       "      <th>browser</th>\n",
       "    </tr>\n",
       "  </thead>\n",
       "  <tbody>\n",
       "    <tr>\n",
       "      <th>0</th>\n",
       "      <td>0</td>\n",
       "      <td>5</td>\n",
       "      <td>22</td>\n",
       "      <td>windows_ie</td>\n",
       "      <td>5</td>\n",
       "      <td>3427</td>\n",
       "      <td>windows</td>\n",
       "      <td>ie</td>\n",
       "    </tr>\n",
       "    <tr>\n",
       "      <th>1</th>\n",
       "      <td>0</td>\n",
       "      <td>1</td>\n",
       "      <td>20</td>\n",
       "      <td>windows_chrome</td>\n",
       "      <td>0</td>\n",
       "      <td>2821</td>\n",
       "      <td>windows</td>\n",
       "      <td>chrome</td>\n",
       "    </tr>\n",
       "    <tr>\n",
       "      <th>2</th>\n",
       "      <td>0</td>\n",
       "      <td>3</td>\n",
       "      <td>13</td>\n",
       "      <td>windows_ie</td>\n",
       "      <td>5</td>\n",
       "      <td>3427</td>\n",
       "      <td>windows</td>\n",
       "      <td>ie</td>\n",
       "    </tr>\n",
       "    <tr>\n",
       "      <th>3</th>\n",
       "      <td>0</td>\n",
       "      <td>6</td>\n",
       "      <td>23</td>\n",
       "      <td>windows_ie</td>\n",
       "      <td>0</td>\n",
       "      <td>1458</td>\n",
       "      <td>windows</td>\n",
       "      <td>ie</td>\n",
       "    </tr>\n",
       "    <tr>\n",
       "      <th>4</th>\n",
       "      <td>0</td>\n",
       "      <td>5</td>\n",
       "      <td>6</td>\n",
       "      <td>windows_ie</td>\n",
       "      <td>133</td>\n",
       "      <td>2259</td>\n",
       "      <td>windows</td>\n",
       "      <td>ie</td>\n",
       "    </tr>\n",
       "  </tbody>\n",
       "</table>\n",
       "</div>"
      ],
      "text/plain": [
       "   click  weekday  hour       useragent  slotprice  advertiser       os  \\\n",
       "0      0        5    22      windows_ie          5        3427  windows   \n",
       "1      0        1    20  windows_chrome          0        2821  windows   \n",
       "2      0        3    13      windows_ie          5        3427  windows   \n",
       "3      0        6    23      windows_ie          0        1458  windows   \n",
       "4      0        5     6      windows_ie        133        2259  windows   \n",
       "\n",
       "  browser  \n",
       "0      ie  \n",
       "1  chrome  \n",
       "2      ie  \n",
       "3      ie  \n",
       "4      ie  "
      ]
     },
     "execution_count": 2,
     "metadata": {},
     "output_type": "execute_result"
    }
   ],
   "source": [
    "train[\"os\"] = train[\"useragent\"].map(lambda x:x.split('_')[0])\n",
    "train[\"browser\"] = train[\"useragent\"].map(lambda x:x.split('_')[1:][0])\n",
    "# width = train[\"slotwidth\"].astype(\"str\")\n",
    "# height = train[\"slotheight\"].astype(\"str\")\n",
    "# slotsize = width.str.cat(height, sep=\"*\")\n",
    "# train[\"slotsize\"] = slotsize\n",
    "train.head()"
   ]
  },
  {
   "cell_type": "code",
   "execution_count": 3,
   "metadata": {},
   "outputs": [
    {
     "data": {
      "text/html": [
       "<div>\n",
       "<style scoped>\n",
       "    .dataframe tbody tr th:only-of-type {\n",
       "        vertical-align: middle;\n",
       "    }\n",
       "\n",
       "    .dataframe tbody tr th {\n",
       "        vertical-align: top;\n",
       "    }\n",
       "\n",
       "    .dataframe thead th {\n",
       "        text-align: right;\n",
       "    }\n",
       "</style>\n",
       "<table border=\"1\" class=\"dataframe\">\n",
       "  <thead>\n",
       "    <tr style=\"text-align: right;\">\n",
       "      <th></th>\n",
       "      <th>click</th>\n",
       "      <th>weekday</th>\n",
       "      <th>hour</th>\n",
       "      <th>useragent</th>\n",
       "      <th>slotprice</th>\n",
       "      <th>advertiser</th>\n",
       "      <th>usertag</th>\n",
       "      <th>os</th>\n",
       "      <th>browser</th>\n",
       "    </tr>\n",
       "  </thead>\n",
       "  <tbody>\n",
       "    <tr>\n",
       "      <th>0</th>\n",
       "      <td>0</td>\n",
       "      <td>4</td>\n",
       "      <td>20</td>\n",
       "      <td>windows_ie</td>\n",
       "      <td>0</td>\n",
       "      <td>1458</td>\n",
       "      <td>13866,10111</td>\n",
       "      <td>windows</td>\n",
       "      <td>ie</td>\n",
       "    </tr>\n",
       "    <tr>\n",
       "      <th>1</th>\n",
       "      <td>0</td>\n",
       "      <td>1</td>\n",
       "      <td>21</td>\n",
       "      <td>windows_chrome</td>\n",
       "      <td>0</td>\n",
       "      <td>3476</td>\n",
       "      <td>10075,10057,10024,10052,10083,10063,10006,10110</td>\n",
       "      <td>windows</td>\n",
       "      <td>chrome</td>\n",
       "    </tr>\n",
       "    <tr>\n",
       "      <th>2</th>\n",
       "      <td>0</td>\n",
       "      <td>4</td>\n",
       "      <td>8</td>\n",
       "      <td>windows_ie</td>\n",
       "      <td>5</td>\n",
       "      <td>3358</td>\n",
       "      <td>13866,10024,10059,10063,13776,10083,10006,10111</td>\n",
       "      <td>windows</td>\n",
       "      <td>ie</td>\n",
       "    </tr>\n",
       "    <tr>\n",
       "      <th>3</th>\n",
       "      <td>0</td>\n",
       "      <td>5</td>\n",
       "      <td>15</td>\n",
       "      <td>windows_chrome</td>\n",
       "      <td>5</td>\n",
       "      <td>3358</td>\n",
       "      <td>13866,10057,10006,10063,10110</td>\n",
       "      <td>windows</td>\n",
       "      <td>chrome</td>\n",
       "    </tr>\n",
       "    <tr>\n",
       "      <th>4</th>\n",
       "      <td>0</td>\n",
       "      <td>1</td>\n",
       "      <td>18</td>\n",
       "      <td>windows_chrome</td>\n",
       "      <td>5</td>\n",
       "      <td>3476</td>\n",
       "      <td>10006,10063,13776,10110</td>\n",
       "      <td>windows</td>\n",
       "      <td>chrome</td>\n",
       "    </tr>\n",
       "  </tbody>\n",
       "</table>\n",
       "</div>"
      ],
      "text/plain": [
       "   click  weekday  hour       useragent  slotprice  advertiser  \\\n",
       "0      0        4    20      windows_ie          0        1458   \n",
       "1      0        1    21  windows_chrome          0        3476   \n",
       "2      0        4     8      windows_ie          5        3358   \n",
       "3      0        5    15  windows_chrome          5        3358   \n",
       "4      0        1    18  windows_chrome          5        3476   \n",
       "\n",
       "                                           usertag       os browser  \n",
       "0                                      13866,10111  windows      ie  \n",
       "1  10075,10057,10024,10052,10083,10063,10006,10110  windows  chrome  \n",
       "2  13866,10024,10059,10063,13776,10083,10006,10111  windows      ie  \n",
       "3                    13866,10057,10006,10063,10110  windows  chrome  \n",
       "4                          10006,10063,13776,10110  windows  chrome  "
      ]
     },
     "execution_count": 3,
     "metadata": {},
     "output_type": "execute_result"
    }
   ],
   "source": [
    "validation[\"os\"] = validation[\"useragent\"].map(lambda x:x.split('_')[0])\n",
    "validation[\"browser\"] = validation[\"useragent\"].map(lambda x:x.split('_')[1:][0])\n",
    "# width = validation[\"slotwidth\"].astype(\"str\")\n",
    "# height = validation[\"slotheight\"].astype(\"str\")\n",
    "# slotsize = width.str.cat(height, sep=\"*\")\n",
    "# validation[\"slotsize\"] = slotsize\n",
    "validation.head()"
   ]
  },
  {
   "cell_type": "code",
   "execution_count": 4,
   "metadata": {},
   "outputs": [
    {
     "data": {
      "text/html": [
       "<div>\n",
       "<style scoped>\n",
       "    .dataframe tbody tr th:only-of-type {\n",
       "        vertical-align: middle;\n",
       "    }\n",
       "\n",
       "    .dataframe tbody tr th {\n",
       "        vertical-align: top;\n",
       "    }\n",
       "\n",
       "    .dataframe thead th {\n",
       "        text-align: right;\n",
       "    }\n",
       "</style>\n",
       "<table border=\"1\" class=\"dataframe\">\n",
       "  <thead>\n",
       "    <tr style=\"text-align: right;\">\n",
       "      <th></th>\n",
       "      <th>weekday</th>\n",
       "      <th>hour</th>\n",
       "      <th>useragent</th>\n",
       "      <th>slotprice</th>\n",
       "      <th>advertiser</th>\n",
       "      <th>usertag</th>\n",
       "      <th>os</th>\n",
       "      <th>browser</th>\n",
       "    </tr>\n",
       "  </thead>\n",
       "  <tbody>\n",
       "    <tr>\n",
       "      <th>0</th>\n",
       "      <td>0</td>\n",
       "      <td>12</td>\n",
       "      <td>windows_chrome</td>\n",
       "      <td>10</td>\n",
       "      <td>3427</td>\n",
       "      <td>10024,10077,10075,10063,10031,10102,10006,1304...</td>\n",
       "      <td>windows</td>\n",
       "      <td>chrome</td>\n",
       "    </tr>\n",
       "    <tr>\n",
       "      <th>1</th>\n",
       "      <td>3</td>\n",
       "      <td>14</td>\n",
       "      <td>android_safari</td>\n",
       "      <td>5</td>\n",
       "      <td>2997</td>\n",
       "      <td>NaN</td>\n",
       "      <td>android</td>\n",
       "      <td>safari</td>\n",
       "    </tr>\n",
       "    <tr>\n",
       "      <th>2</th>\n",
       "      <td>5</td>\n",
       "      <td>19</td>\n",
       "      <td>windows_ie</td>\n",
       "      <td>0</td>\n",
       "      <td>1458</td>\n",
       "      <td>13866,10006,10024,10059,10048,10063,10067,1008...</td>\n",
       "      <td>windows</td>\n",
       "      <td>ie</td>\n",
       "    </tr>\n",
       "    <tr>\n",
       "      <th>3</th>\n",
       "      <td>0</td>\n",
       "      <td>21</td>\n",
       "      <td>windows_ie</td>\n",
       "      <td>30</td>\n",
       "      <td>2821</td>\n",
       "      <td>10075,13042,10006,10110,13776,10031,10063</td>\n",
       "      <td>windows</td>\n",
       "      <td>ie</td>\n",
       "    </tr>\n",
       "    <tr>\n",
       "      <th>4</th>\n",
       "      <td>2</td>\n",
       "      <td>20</td>\n",
       "      <td>windows_ie</td>\n",
       "      <td>50</td>\n",
       "      <td>3386</td>\n",
       "      <td>10063</td>\n",
       "      <td>windows</td>\n",
       "      <td>ie</td>\n",
       "    </tr>\n",
       "  </tbody>\n",
       "</table>\n",
       "</div>"
      ],
      "text/plain": [
       "   weekday  hour       useragent  slotprice  advertiser  \\\n",
       "0        0    12  windows_chrome         10        3427   \n",
       "1        3    14  android_safari          5        2997   \n",
       "2        5    19      windows_ie          0        1458   \n",
       "3        0    21      windows_ie         30        2821   \n",
       "4        2    20      windows_ie         50        3386   \n",
       "\n",
       "                                             usertag       os browser  \n",
       "0  10024,10077,10075,10063,10031,10102,10006,1304...  windows  chrome  \n",
       "1                                                NaN  android  safari  \n",
       "2  13866,10006,10024,10059,10048,10063,10067,1008...  windows      ie  \n",
       "3          10075,13042,10006,10110,13776,10031,10063  windows      ie  \n",
       "4                                              10063  windows      ie  "
      ]
     },
     "execution_count": 4,
     "metadata": {},
     "output_type": "execute_result"
    }
   ],
   "source": [
    "test[\"os\"] = test[\"useragent\"].map(lambda x:x.split('_')[0])\n",
    "test[\"browser\"] = test[\"useragent\"].map(lambda x:x.split('_')[1:][0])\n",
    "# width = test[\"slotwidth\"].astype(\"str\")\n",
    "# height = test[\"slotheight\"].astype(\"str\")\n",
    "# slotsize = width.str.cat(height, sep=\"*\")\n",
    "# test[\"slotsize\"] = slotsize\n",
    "test.head()"
   ]
  },
  {
   "cell_type": "code",
   "execution_count": 5,
   "metadata": {
    "collapsed": true
   },
   "outputs": [],
   "source": [
    "del train[\"useragent\"]\n",
    "# del train[\"slotwidth\"]\n",
    "# del train[\"slotheight\"]\n",
    "del validation[\"useragent\"]\n",
    "# del validation[\"slotwidth\"]\n",
    "# del validation[\"slotheight\"]"
   ]
  },
  {
   "cell_type": "code",
   "execution_count": 6,
   "metadata": {
    "collapsed": true
   },
   "outputs": [],
   "source": [
    "del test[\"useragent\"]\n",
    "# del test[\"slotwidth\"]\n",
    "# del test[\"slotheight\"]"
   ]
  },
  {
   "cell_type": "code",
   "execution_count": 7,
   "metadata": {
    "collapsed": true
   },
   "outputs": [],
   "source": [
    "train_weekday_dummy = pd.get_dummies(train['weekday'],prefix = \"weekday\")  \n",
    "train = train.join(train_weekday_dummy)"
   ]
  },
  {
   "cell_type": "code",
   "execution_count": 8,
   "metadata": {
    "collapsed": true
   },
   "outputs": [],
   "source": [
    "validation_weekday_dummy = pd.get_dummies(validation['weekday'],prefix = \"weekday\")  \n",
    "validation = validation.join(validation_weekday_dummy)"
   ]
  },
  {
   "cell_type": "code",
   "execution_count": 9,
   "metadata": {
    "collapsed": true
   },
   "outputs": [],
   "source": [
    "test_weekday_dummy = pd.get_dummies(test['weekday'],prefix = \"weekday\")  \n",
    "test = test.join(test_weekday_dummy)"
   ]
  },
  {
   "cell_type": "code",
   "execution_count": 10,
   "metadata": {
    "collapsed": true
   },
   "outputs": [],
   "source": [
    "del train['weekday']\n",
    "del validation['weekday']\n",
    "del test['weekday']"
   ]
  },
  {
   "cell_type": "code",
   "execution_count": 11,
   "metadata": {
    "collapsed": true
   },
   "outputs": [],
   "source": [
    "train_hour_dummy = pd.get_dummies(train['hour'],prefix = \"hour\")  \n",
    "train = train.join(train_hour_dummy)\n",
    "validation_hour_dummy = pd.get_dummies(validation['hour'],prefix = \"hour\")  \n",
    "validation = validation.join(validation_hour_dummy)"
   ]
  },
  {
   "cell_type": "code",
   "execution_count": 12,
   "metadata": {
    "collapsed": true
   },
   "outputs": [],
   "source": [
    "test_hour_dummy = pd.get_dummies(test['hour'],prefix = \"hour\")  \n",
    "test = test.join(test_hour_dummy)"
   ]
  },
  {
   "cell_type": "code",
   "execution_count": 13,
   "metadata": {
    "collapsed": true
   },
   "outputs": [],
   "source": [
    "del train['hour']\n",
    "del validation['hour']\n",
    "del test['hour']"
   ]
  },
  {
   "cell_type": "code",
   "execution_count": 14,
   "metadata": {
    "collapsed": true
   },
   "outputs": [],
   "source": [
    "# train_region_dummy = pd.get_dummies(train['region'],prefix = \"region\")  \n",
    "# train = train.join(train_region_dummy)\n",
    "# validation_region_dummy = pd.get_dummies(validation['region'],prefix = \"region\")  \n",
    "# validation = validation.join(validation_region_dummy)"
   ]
  },
  {
   "cell_type": "code",
   "execution_count": 15,
   "metadata": {
    "collapsed": true
   },
   "outputs": [],
   "source": [
    "# test_region_dummy = pd.get_dummies(test['region'],prefix = \"region\")  \n",
    "# test = test.join(test_region_dummy)"
   ]
  },
  {
   "cell_type": "code",
   "execution_count": 16,
   "metadata": {
    "collapsed": true
   },
   "outputs": [],
   "source": [
    "# del train['region']\n",
    "# del validation['region']\n",
    "# del test['region']"
   ]
  },
  {
   "cell_type": "code",
   "execution_count": 17,
   "metadata": {
    "collapsed": true
   },
   "outputs": [],
   "source": [
    "# train_city_dummy = pd.get_dummies(train['city'],prefix = \"city\")  \n",
    "# train = train.join(train_city_dummy)\n",
    "# validation_city_dummy = pd.get_dummies(validation['city'],prefix = \"city\")  \n",
    "# validation = validation.join(validation_city_dummy)"
   ]
  },
  {
   "cell_type": "code",
   "execution_count": 18,
   "metadata": {
    "collapsed": true
   },
   "outputs": [],
   "source": [
    "# test_city_dummy = pd.get_dummies(test['city'],prefix = \"city\")  \n",
    "# test = test.join(test_city_dummy)"
   ]
  },
  {
   "cell_type": "code",
   "execution_count": 19,
   "metadata": {
    "collapsed": true
   },
   "outputs": [],
   "source": [
    "# del train['city']\n",
    "# del validation['city']\n",
    "# del test['city']"
   ]
  },
  {
   "cell_type": "code",
   "execution_count": 20,
   "metadata": {
    "collapsed": true
   },
   "outputs": [],
   "source": [
    "# train_adexchange_dummy = pd.get_dummies(train['adexchange'],prefix = \"adexchange\")  \n",
    "# train = train.join(train_adexchange_dummy)\n",
    "# validation_adexchange_dummy = pd.get_dummies(validation['adexchange'],prefix = \"adexchange\")  \n",
    "# validation = validation.join(validation_adexchange_dummy)\n",
    "# del train['adexchange']\n",
    "# del validation['adexchange']"
   ]
  },
  {
   "cell_type": "code",
   "execution_count": 21,
   "metadata": {
    "collapsed": true
   },
   "outputs": [],
   "source": [
    "# test_adexchange_dummy = pd.get_dummies(test['adexchange'],prefix = \"adexchange\")  \n",
    "# test = test.join(test_adexchange_dummy)\n",
    "# del test['adexchange']"
   ]
  },
  {
   "cell_type": "code",
   "execution_count": 22,
   "metadata": {
    "collapsed": true
   },
   "outputs": [],
   "source": [
    "# train_slotvisibility_dummy = pd.get_dummies(train['slotvisibility'],prefix = \"slotvisibility\")  \n",
    "# train = train.join(train_slotvisibility_dummy)\n",
    "# validation_slotvisibility_dummy = pd.get_dummies(validation['slotvisibility'],prefix = \"slotvisibility\")  \n",
    "# validation = validation.join(validation_slotvisibility_dummy)\n",
    "# del train['slotvisibility']\n",
    "# del validation['slotvisibility']"
   ]
  },
  {
   "cell_type": "code",
   "execution_count": 23,
   "metadata": {
    "collapsed": true
   },
   "outputs": [],
   "source": [
    "# test_slotvisibility_dummy = pd.get_dummies(test['slotvisibility'],prefix = \"slotvisibility\")  \n",
    "# test = test.join(test_slotvisibility_dummy)\n",
    "# del test['slotvisibility']"
   ]
  },
  {
   "cell_type": "code",
   "execution_count": 24,
   "metadata": {
    "collapsed": true
   },
   "outputs": [],
   "source": [
    "# train_advertiser_dummy = pd.get_dummies(train['advertiser'],prefix = \"advertiser\")  \n",
    "# train = train.join(train_advertiser_dummy)\n",
    "# validation_advertiser_dummy = pd.get_dummies(validation['advertiser'],prefix = \"advertiser\")  \n",
    "# validation = validation.join(validation_advertiser_dummy)\n",
    "del train['advertiser']\n",
    "del validation['advertiser']"
   ]
  },
  {
   "cell_type": "code",
   "execution_count": 25,
   "metadata": {
    "collapsed": true
   },
   "outputs": [],
   "source": [
    "test_advertiser_dummy = pd.get_dummies(test['advertiser'],prefix = \"advertiser\")  \n",
    "test = test.join(test_advertiser_dummy)\n",
    "del test['advertiser']"
   ]
  },
  {
   "cell_type": "code",
   "execution_count": 26,
   "metadata": {
    "collapsed": true
   },
   "outputs": [],
   "source": [
    "train_os_dummy = pd.get_dummies(train['os'],prefix = \"os\")  \n",
    "train = train.join(train_os_dummy)\n",
    "validation_os_dummy = pd.get_dummies(validation['os'],prefix = \"os\")  \n",
    "validation = validation.join(validation_os_dummy)\n",
    "del train['os']\n",
    "del validation['os']"
   ]
  },
  {
   "cell_type": "code",
   "execution_count": 27,
   "metadata": {
    "collapsed": true
   },
   "outputs": [],
   "source": [
    "test_os_dummy = pd.get_dummies(test['os'],prefix = \"os\")  \n",
    "test = test.join(test_os_dummy)\n",
    "del test['os']"
   ]
  },
  {
   "cell_type": "code",
   "execution_count": 28,
   "metadata": {
    "collapsed": true
   },
   "outputs": [],
   "source": [
    "train_browser_dummy = pd.get_dummies(train['browser'],prefix = \"browser\")  \n",
    "train = train.join(train_browser_dummy)\n",
    "validation_browser_dummy = pd.get_dummies(validation['browser'],prefix = \"browser\")  \n",
    "validation = validation.join(validation_browser_dummy)\n",
    "del train['browser']\n",
    "del validation['browser']"
   ]
  },
  {
   "cell_type": "code",
   "execution_count": 29,
   "metadata": {
    "collapsed": true
   },
   "outputs": [],
   "source": [
    "# test_browser_dummy = pd.get_dummies(test['browser'],prefix = \"browser\")  \n",
    "# test = test.join(test_browser_dummy)\n",
    "# del test['browser']"
   ]
  },
  {
   "cell_type": "code",
   "execution_count": 30,
   "metadata": {
    "collapsed": true
   },
   "outputs": [],
   "source": [
    "# train_slotsize_dummy = pd.get_dummies(train['slotsize'],prefix = \"slotsize\")  \n",
    "# train = train.join(train_slotsize_dummy)\n",
    "# validation_slotsize_dummy = pd.get_dummies(validation['slotsize'],prefix = \"slotsize\")  \n",
    "# validation = validation.join(validation_slotsize_dummy)\n",
    "# del train['slotsize']\n",
    "# del validation['slotsize']"
   ]
  },
  {
   "cell_type": "code",
   "execution_count": 31,
   "metadata": {
    "collapsed": true
   },
   "outputs": [],
   "source": [
    "# test_slotsize_dummy = pd.get_dummies(test['slotsize'],prefix = \"slotsize\")  \n",
    "# test = test.join(test_slotsize_dummy)\n",
    "# del test['slotsize']"
   ]
  },
  {
   "cell_type": "code",
   "execution_count": 32,
   "metadata": {
    "collapsed": true
   },
   "outputs": [],
   "source": [
    "# train['slotprice_norm'] = (train['slotprice'] - train['slotprice'].mean()) / train['slotprice'].std()\n",
    "# validation['slotprice_norm'] = (validation['slotprice'] - validation['slotprice'].mean()) / validation['slotprice'].std()\n",
    "# del train['slotprice']\n",
    "# del validation['slotprice'] "
   ]
  },
  {
   "cell_type": "code",
   "execution_count": 33,
   "metadata": {
    "collapsed": true
   },
   "outputs": [],
   "source": [
    "floor = []\n",
    "for i in train[\"slotprice\"]:\n",
    "    if i in range(1,11):\n",
    "        floor.append(1)\n",
    "    elif i in range(11,51):\n",
    "        floor.append(2)\n",
    "    elif i in range(51,101):\n",
    "        floor.append(3)\n",
    "    elif i == 0:\n",
    "        floor.append(0)\n",
    "    else:\n",
    "        floor.append(4)\n",
    "train['floorprice'] = floor\n",
    "train_floorprice_dummy = pd.get_dummies(train['floorprice'],prefix = \"floorprice\")  \n",
    "train = train.join(train_floorprice_dummy)\n",
    "\n",
    "del train['slotprice']\n"
   ]
  },
  {
   "cell_type": "code",
   "execution_count": 34,
   "metadata": {
    "collapsed": true
   },
   "outputs": [],
   "source": [
    "floor = []\n",
    "for i in validation[\"slotprice\"]:\n",
    "    if i in range(1,11):\n",
    "        floor.append(1)\n",
    "    elif i in range(11,51):\n",
    "        floor.append(2)\n",
    "    elif i in range(51,101):\n",
    "        floor.append(3)\n",
    "    elif i == 0:\n",
    "        floor.append(0)\n",
    "    else:\n",
    "        floor.append(4)\n",
    "validation['floorprice'] = floor\n",
    "validation_floorprice_dummy = pd.get_dummies(validation['floorprice'],prefix = \"floorprice\")  \n",
    "validation = validation.join(validation_floorprice_dummy)\n",
    "\n",
    "del validation['slotprice'] "
   ]
  },
  {
   "cell_type": "code",
   "execution_count": 35,
   "metadata": {
    "collapsed": true
   },
   "outputs": [],
   "source": [
    "# test['slotprice_norm'] = (test['slotprice'] - test['slotprice'].mean()) / test['slotprice'].std()\n",
    "# del test['slotprice']"
   ]
  },
  {
   "cell_type": "code",
   "execution_count": 36,
   "metadata": {
    "collapsed": true
   },
   "outputs": [],
   "source": [
    "# train"
   ]
  },
  {
   "cell_type": "code",
   "execution_count": 37,
   "metadata": {
    "collapsed": true
   },
   "outputs": [],
   "source": [
    "train_usertag = pd.read_csv(\"dummy_tag_train.csv\")"
   ]
  },
  {
   "cell_type": "code",
   "execution_count": 38,
   "metadata": {
    "collapsed": true
   },
   "outputs": [],
   "source": [
    "train_usertag = train_usertag[train_usertag.columns[1:]]"
   ]
  },
  {
   "cell_type": "code",
   "execution_count": 39,
   "metadata": {
    "collapsed": true
   },
   "outputs": [],
   "source": [
    "train = train.join(train_usertag)"
   ]
  },
  {
   "cell_type": "code",
   "execution_count": 157,
   "metadata": {
    "collapsed": true
   },
   "outputs": [],
   "source": [
    "# pd.DataFrame(train).to_csv('train_processed.csv')"
   ]
  },
  {
   "cell_type": "code",
   "execution_count": 43,
   "metadata": {},
   "outputs": [
    {
     "data": {
      "text/plain": [
       "(2430981, 121)"
      ]
     },
     "execution_count": 43,
     "metadata": {},
     "output_type": "execute_result"
    }
   ],
   "source": [
    "train_x = train[train.columns[1:]]\n",
    "train_y = train[train.columns[0]]\n",
    "train_x.shape"
   ]
  },
  {
   "cell_type": "code",
   "execution_count": 44,
   "metadata": {},
   "outputs": [
    {
     "data": {
      "text/plain": [
       "LogisticRegression(C=1.0, class_weight=None, dual=False, fit_intercept=True,\n",
       "          intercept_scaling=1, max_iter=100, multi_class='ovr', n_jobs=1,\n",
       "          penalty='l2', random_state=None, solver='liblinear', tol=0.0001,\n",
       "          verbose=0, warm_start=False)"
      ]
     },
     "execution_count": 44,
     "metadata": {},
     "output_type": "execute_result"
    }
   ],
   "source": [
    "from sklearn.linear_model import LogisticRegression\n",
    "# data['intercept'] = 1.0  \n",
    "# train_cols = data.columns[1:]  \n",
    "classifier = LogisticRegression()\n",
    "classifier.fit(train_x, train_y) "
   ]
  },
  {
   "cell_type": "code",
   "execution_count": 45,
   "metadata": {
    "collapsed": true
   },
   "outputs": [],
   "source": [
    "# import collections\n",
    "# users_val = collections.defaultdict()\n",
    "# i = 0\n",
    "# for user in validation[\"usertag\"]:\n",
    "#     users_val[i] = str(user).split(',')\n",
    "#     i += 1"
   ]
  },
  {
   "cell_type": "code",
   "execution_count": 46,
   "metadata": {
    "collapsed": true
   },
   "outputs": [],
   "source": [
    "# s_val = pd.Series(users_val)\n",
    "# dataframe_val = pd.get_dummies(s_val.apply(pd.Series).stack()).sum(level=0)"
   ]
  },
  {
   "cell_type": "code",
   "execution_count": 48,
   "metadata": {},
   "outputs": [],
   "source": [
    "# pd.DataFrame(dataframe_val).to_csv('dummy_tag_val.csv',index=False)"
   ]
  },
  {
   "cell_type": "code",
   "execution_count": 49,
   "metadata": {
    "collapsed": true
   },
   "outputs": [],
   "source": [
    "dataframe_val = pd.read_csv(\"dummy_tag_val.csv\")"
   ]
  },
  {
   "cell_type": "code",
   "execution_count": 50,
   "metadata": {
    "collapsed": true
   },
   "outputs": [],
   "source": [
    "# dataframe_val"
   ]
  },
  {
   "cell_type": "code",
   "execution_count": 51,
   "metadata": {
    "collapsed": true
   },
   "outputs": [],
   "source": [
    "validation = validation.join(dataframe_val)"
   ]
  },
  {
   "cell_type": "code",
   "execution_count": 52,
   "metadata": {},
   "outputs": [
    {
     "data": {
      "text/plain": [
       "(303925, 122)"
      ]
     },
     "execution_count": 52,
     "metadata": {},
     "output_type": "execute_result"
    }
   ],
   "source": [
    "del validation[\"usertag\"]\n",
    "validation.shape"
   ]
  },
  {
   "cell_type": "code",
   "execution_count": 53,
   "metadata": {},
   "outputs": [
    {
     "data": {
      "text/plain": [
       "(303925, 121)"
      ]
     },
     "execution_count": 53,
     "metadata": {},
     "output_type": "execute_result"
    }
   ],
   "source": [
    "validation_x = validation[validation.columns[1:]]\n",
    "validation_y = validation[validation.columns[0]]\n",
    "validation_x.shape"
   ]
  },
  {
   "cell_type": "code",
   "execution_count": 168,
   "metadata": {
    "collapsed": true
   },
   "outputs": [],
   "source": [
    "# users_test = collections.defaultdict()\n",
    "# i = 0\n",
    "# for user in test[\"usertag\"]:\n",
    "#     users_test[i] = str(user).split(',')\n",
    "#     i += 1"
   ]
  },
  {
   "cell_type": "code",
   "execution_count": 169,
   "metadata": {
    "collapsed": true
   },
   "outputs": [],
   "source": [
    "# s_test = pd.Series(users_test)\n",
    "# dataframe_test = pd.get_dummies(s_test.apply(pd.Series).stack()).sum(level=0)"
   ]
  },
  {
   "cell_type": "code",
   "execution_count": 170,
   "metadata": {
    "collapsed": true
   },
   "outputs": [],
   "source": [
    "# test = test.join(dataframe_test)"
   ]
  },
  {
   "cell_type": "code",
   "execution_count": 171,
   "metadata": {
    "collapsed": true
   },
   "outputs": [],
   "source": [
    "# del test[\"usertag\"]\n",
    "# test.shape"
   ]
  },
  {
   "cell_type": "code",
   "execution_count": 172,
   "metadata": {
    "collapsed": true
   },
   "outputs": [],
   "source": [
    "# from sklearn.linear_model import LogisticRegression\n",
    "# # data['intercept'] = 1.0  \n",
    "# classifier = LogisticRegression()\n",
    "# model = classifier.fit(train_x, train_y) "
   ]
  },
  {
   "cell_type": "code",
   "execution_count": 54,
   "metadata": {
    "collapsed": true
   },
   "outputs": [],
   "source": [
    "predictions=classifier.predict_proba(validation_x)[:,1]"
   ]
  },
  {
   "cell_type": "code",
   "execution_count": 55,
   "metadata": {
    "collapsed": true
   },
   "outputs": [],
   "source": [
    "preds_train = classifier.predict_proba(train_x)[:,1]"
   ]
  },
  {
   "cell_type": "code",
   "execution_count": 56,
   "metadata": {
    "collapsed": true
   },
   "outputs": [],
   "source": [
    "import pandas as pd\n",
    "train_for_CTR = pd.read_csv('..\\\\Coursework\\\\Dataset\\\\train.csv', usecols=('payprice','click'))\n",
    "val = pd.read_csv('..\\\\Coursework\\\\Dataset\\\\validation.csv', usecols=('payprice','click'))"
   ]
  },
  {
   "cell_type": "code",
   "execution_count": 57,
   "metadata": {},
   "outputs": [
    {
     "name": "stdout",
     "output_type": "stream",
     "text": [
      "0.000737562325662\n",
      "80 150 931074\n",
      "81 150 848068\n",
      "82 150 762518\n",
      "83 151 686348\n",
      "84 152 611700\n",
      "85 153 529060\n",
      "86 154 452761\n",
      "87 155 371891\n",
      "88 157 295365\n",
      "89 158 223863\n",
      "90 158 152448\n",
      "91 159 74300\n",
      "92 159 0\n",
      "93 156 0\n",
      "94 154 0\n",
      "95 153 0\n",
      "96 152 0\n",
      "97 152 0\n",
      "98 150 0\n",
      "99 149 0\n"
     ]
    }
   ],
   "source": [
    "import random\n",
    "from operator import itemgetter \n",
    "index_list = random.sample(range(0, 303924), 303924)\n",
    "val_payprice_list = [train_for_CTR[\"payprice\"][i] for i in index_list]\n",
    "val_clicks_list = [train_for_CTR[\"click\"][i] for i in index_list]\n",
    "val_preds_list = [preds_train[i] for i in index_list]\n",
    "\n",
    "avgCTR = train_for_CTR['click'].sum()/train_for_CTR['click'].agg('count')\n",
    "print(avgCTR)\n",
    "for basebid in range(80,100):\n",
    "    sum = 6250 * 1000\n",
    "    clicks = 0\n",
    "    for pay,click,pCTR in zip(val_payprice_list,val_clicks_list,val_preds_list):\n",
    "        sum_sub = sum - pay\n",
    "        bidprice = basebid * pCTR / avgCTR\n",
    "        if bidprice-pay > 0 and sum_sub >= 0:\n",
    "            sum = sum_sub\n",
    "            clicks += click\n",
    "    print(basebid, clicks, sum)\n",
    "# 81"
   ]
  },
  {
   "cell_type": "code",
   "execution_count": 58,
   "metadata": {
    "collapsed": true
   },
   "outputs": [],
   "source": [
    "evaluation =pd.DataFrame(index=['Clicks', 'CTR', 'Spend','CPM', 'CPC'], columns=['Evaluation Metric'])"
   ]
  },
  {
   "cell_type": "code",
   "execution_count": 59,
   "metadata": {},
   "outputs": [
    {
     "name": "stdout",
     "output_type": "stream",
     "text": [
      "0.000737562325662\n"
     ]
    }
   ],
   "source": [
    "avgCTR = train_for_CTR['click'].sum()/train_for_CTR['click'].agg('count')\n",
    "print(avgCTR)"
   ]
  },
  {
   "cell_type": "code",
   "execution_count": 60,
   "metadata": {
    "collapsed": true
   },
   "outputs": [],
   "source": [
    "sum = 6250 * 1000\n",
    "clicks = 0\n",
    "spend = 0\n",
    "impressions = 0\n",
    "for pay,click,pCTR in zip(val[\"payprice\"],val['click'],predictions):\n",
    "    sum_sub = sum - pay\n",
    "    bidprice = 91 * pCTR / avgCTR\n",
    "    if bidprice-pay > 0 and sum_sub >= 0:\n",
    "        impressions += 1\n",
    "        spend += pay\n",
    "        sum = sum_sub\n",
    "        clicks += click\n",
    "# print(clicks, sum)\n",
    "evaluation.loc['Clicks', 'Evaluation Metric'] = clicks\n",
    "evaluation.loc['Spend', 'Evaluation Metric'] = spend / 1000\n",
    "evaluation.loc['CTR', 'Evaluation Metric'] = \"{:.2f}%\".format(clicks / impressions * 100)\n",
    "evaluation.loc['CPM', 'Evaluation Metric'] = \"{:.2f}\".format(spend / impressions)\n",
    "evaluation.loc['CPC', 'Evaluation Metric'] = \"{:.2f}\".format((spend / 1000) / clicks)"
   ]
  },
  {
   "cell_type": "code",
   "execution_count": 61,
   "metadata": {},
   "outputs": [
    {
     "name": "stdout",
     "output_type": "stream",
     "text": [
      "\\begin{tabular}{ll}\n",
      "\\toprule\n",
      "{} & Evaluation Metric \\\\\n",
      "\\midrule\n",
      "Clicks &               149 \\\\\n",
      "CTR    &             0.11\\% \\\\\n",
      "Spend  &           6163.18 \\\\\n",
      "CPM    &             45.50 \\\\\n",
      "CPC    &             41.36 \\\\\n",
      "\\bottomrule\n",
      "\\end{tabular}\n",
      "\n"
     ]
    }
   ],
   "source": [
    "print(evaluation.to_latex())"
   ]
  },
  {
   "cell_type": "code",
   "execution_count": 62,
   "metadata": {},
   "outputs": [
    {
     "name": "stdout",
     "output_type": "stream",
     "text": [
      "0.000737562325662\n",
      "80 147 929197\n",
      "81 147 848534\n",
      "82 148 766829\n",
      "83 148 690114\n",
      "84 148 614883\n",
      "85 149 539223\n",
      "86 149 464159\n",
      "87 149 381309\n",
      "88 149 305724\n",
      "89 149 230018\n",
      "90 149 160331\n",
      "91 149 86856\n",
      "92 149 8186\n",
      "93 148 0\n",
      "94 146 0\n",
      "95 145 0\n",
      "96 144 0\n",
      "97 141 0\n",
      "98 141 0\n",
      "99 141 0\n"
     ]
    }
   ],
   "source": [
    "import random\n",
    "from operator import itemgetter \n",
    "index_list = random.sample(range(0, 303924), 303924)\n",
    "val_payprice_list = [val[\"payprice\"][i] for i in index_list]\n",
    "val_clicks_list = [val[\"click\"][i] for i in index_list]\n",
    "val_preds_list = [predictions[i] for i in index_list]\n",
    "\n",
    "avgCTR = train_for_CTR['click'].sum()/train_for_CTR['click'].agg('count')\n",
    "print(avgCTR)\n",
    "for basebid in range(80,100):\n",
    "    sum = 6250 * 1000\n",
    "    clicks = 0\n",
    "    for pay,click,pCTR in zip(val_payprice_list,val_clicks_list,val_preds_list):\n",
    "        sum_sub = sum - pay\n",
    "        bidprice = basebid * pCTR / avgCTR\n",
    "        if bidprice-pay > 0 and sum_sub >= 0:\n",
    "            sum = sum_sub\n",
    "            clicks += click\n",
    "    print(basebid, clicks, sum)\n",
    "# 81"
   ]
  }
 ],
 "metadata": {
  "kernelspec": {
   "display_name": "Python 3",
   "language": "python",
   "name": "python3"
  },
  "language_info": {
   "codemirror_mode": {
    "name": "ipython",
    "version": 3
   },
   "file_extension": ".py",
   "mimetype": "text/x-python",
   "name": "python",
   "nbconvert_exporter": "python",
   "pygments_lexer": "ipython3",
   "version": "3.6.3"
  }
 },
 "nbformat": 4,
 "nbformat_minor": 2
}
