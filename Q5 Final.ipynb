{
 "cells": [
  {
   "cell_type": "code",
   "execution_count": 1,
   "metadata": {
    "collapsed": true
   },
   "outputs": [],
   "source": [
    "import pandas as pd\n",
    "train = pd.read_csv('..\\\\Coursework\\\\Dataset\\\\train.csv', usecols=[\"click\",\"weekday\",\"hour\",\"useragent\",\"slotprice\",\"advertiser\"])\n",
    "validation = pd.read_csv('..\\\\Coursework\\\\Dataset\\\\validation.csv', usecols=[\"click\",\"weekday\",\"hour\",\"useragent\",\"slotprice\",\"advertiser\",\"usertag\"])\n",
    "test = pd.read_csv('..\\\\Coursework\\\\Dataset\\\\test.csv', usecols=[\"weekday\",\"hour\",\"useragent\",\"slotprice\",\"advertiser\",\"usertag\"])"
   ]
  },
  {
   "cell_type": "code",
   "execution_count": 2,
   "metadata": {},
   "outputs": [
    {
     "data": {
      "text/html": [
       "<div>\n",
       "<style scoped>\n",
       "    .dataframe tbody tr th:only-of-type {\n",
       "        vertical-align: middle;\n",
       "    }\n",
       "\n",
       "    .dataframe tbody tr th {\n",
       "        vertical-align: top;\n",
       "    }\n",
       "\n",
       "    .dataframe thead th {\n",
       "        text-align: right;\n",
       "    }\n",
       "</style>\n",
       "<table border=\"1\" class=\"dataframe\">\n",
       "  <thead>\n",
       "    <tr style=\"text-align: right;\">\n",
       "      <th></th>\n",
       "      <th>click</th>\n",
       "      <th>weekday</th>\n",
       "      <th>hour</th>\n",
       "      <th>useragent</th>\n",
       "      <th>slotprice</th>\n",
       "      <th>advertiser</th>\n",
       "      <th>os</th>\n",
       "      <th>browser</th>\n",
       "    </tr>\n",
       "  </thead>\n",
       "  <tbody>\n",
       "    <tr>\n",
       "      <th>0</th>\n",
       "      <td>0</td>\n",
       "      <td>5</td>\n",
       "      <td>22</td>\n",
       "      <td>windows_ie</td>\n",
       "      <td>5</td>\n",
       "      <td>3427</td>\n",
       "      <td>windows</td>\n",
       "      <td>ie</td>\n",
       "    </tr>\n",
       "    <tr>\n",
       "      <th>1</th>\n",
       "      <td>0</td>\n",
       "      <td>1</td>\n",
       "      <td>20</td>\n",
       "      <td>windows_chrome</td>\n",
       "      <td>0</td>\n",
       "      <td>2821</td>\n",
       "      <td>windows</td>\n",
       "      <td>chrome</td>\n",
       "    </tr>\n",
       "    <tr>\n",
       "      <th>2</th>\n",
       "      <td>0</td>\n",
       "      <td>3</td>\n",
       "      <td>13</td>\n",
       "      <td>windows_ie</td>\n",
       "      <td>5</td>\n",
       "      <td>3427</td>\n",
       "      <td>windows</td>\n",
       "      <td>ie</td>\n",
       "    </tr>\n",
       "    <tr>\n",
       "      <th>3</th>\n",
       "      <td>0</td>\n",
       "      <td>6</td>\n",
       "      <td>23</td>\n",
       "      <td>windows_ie</td>\n",
       "      <td>0</td>\n",
       "      <td>1458</td>\n",
       "      <td>windows</td>\n",
       "      <td>ie</td>\n",
       "    </tr>\n",
       "    <tr>\n",
       "      <th>4</th>\n",
       "      <td>0</td>\n",
       "      <td>5</td>\n",
       "      <td>6</td>\n",
       "      <td>windows_ie</td>\n",
       "      <td>133</td>\n",
       "      <td>2259</td>\n",
       "      <td>windows</td>\n",
       "      <td>ie</td>\n",
       "    </tr>\n",
       "  </tbody>\n",
       "</table>\n",
       "</div>"
      ],
      "text/plain": [
       "   click  weekday  hour       useragent  slotprice  advertiser       os  \\\n",
       "0      0        5    22      windows_ie          5        3427  windows   \n",
       "1      0        1    20  windows_chrome          0        2821  windows   \n",
       "2      0        3    13      windows_ie          5        3427  windows   \n",
       "3      0        6    23      windows_ie          0        1458  windows   \n",
       "4      0        5     6      windows_ie        133        2259  windows   \n",
       "\n",
       "  browser  \n",
       "0      ie  \n",
       "1  chrome  \n",
       "2      ie  \n",
       "3      ie  \n",
       "4      ie  "
      ]
     },
     "execution_count": 2,
     "metadata": {},
     "output_type": "execute_result"
    }
   ],
   "source": [
    "train[\"os\"] = train[\"useragent\"].map(lambda x:x.split('_')[0])\n",
    "train[\"browser\"] = train[\"useragent\"].map(lambda x:x.split('_')[1:][0])\n",
    "# width = train[\"slotwidth\"].astype(\"str\")\n",
    "# height = train[\"slotheight\"].astype(\"str\")\n",
    "# slotsize = width.str.cat(height, sep=\"*\")\n",
    "# train[\"slotsize\"] = slotsize\n",
    "train.head()"
   ]
  },
  {
   "cell_type": "code",
   "execution_count": 3,
   "metadata": {},
   "outputs": [
    {
     "data": {
      "text/html": [
       "<div>\n",
       "<style scoped>\n",
       "    .dataframe tbody tr th:only-of-type {\n",
       "        vertical-align: middle;\n",
       "    }\n",
       "\n",
       "    .dataframe tbody tr th {\n",
       "        vertical-align: top;\n",
       "    }\n",
       "\n",
       "    .dataframe thead th {\n",
       "        text-align: right;\n",
       "    }\n",
       "</style>\n",
       "<table border=\"1\" class=\"dataframe\">\n",
       "  <thead>\n",
       "    <tr style=\"text-align: right;\">\n",
       "      <th></th>\n",
       "      <th>click</th>\n",
       "      <th>weekday</th>\n",
       "      <th>hour</th>\n",
       "      <th>useragent</th>\n",
       "      <th>slotprice</th>\n",
       "      <th>advertiser</th>\n",
       "      <th>usertag</th>\n",
       "      <th>os</th>\n",
       "      <th>browser</th>\n",
       "    </tr>\n",
       "  </thead>\n",
       "  <tbody>\n",
       "    <tr>\n",
       "      <th>0</th>\n",
       "      <td>0</td>\n",
       "      <td>4</td>\n",
       "      <td>20</td>\n",
       "      <td>windows_ie</td>\n",
       "      <td>0</td>\n",
       "      <td>1458</td>\n",
       "      <td>13866,10111</td>\n",
       "      <td>windows</td>\n",
       "      <td>ie</td>\n",
       "    </tr>\n",
       "    <tr>\n",
       "      <th>1</th>\n",
       "      <td>0</td>\n",
       "      <td>1</td>\n",
       "      <td>21</td>\n",
       "      <td>windows_chrome</td>\n",
       "      <td>0</td>\n",
       "      <td>3476</td>\n",
       "      <td>10075,10057,10024,10052,10083,10063,10006,10110</td>\n",
       "      <td>windows</td>\n",
       "      <td>chrome</td>\n",
       "    </tr>\n",
       "    <tr>\n",
       "      <th>2</th>\n",
       "      <td>0</td>\n",
       "      <td>4</td>\n",
       "      <td>8</td>\n",
       "      <td>windows_ie</td>\n",
       "      <td>5</td>\n",
       "      <td>3358</td>\n",
       "      <td>13866,10024,10059,10063,13776,10083,10006,10111</td>\n",
       "      <td>windows</td>\n",
       "      <td>ie</td>\n",
       "    </tr>\n",
       "    <tr>\n",
       "      <th>3</th>\n",
       "      <td>0</td>\n",
       "      <td>5</td>\n",
       "      <td>15</td>\n",
       "      <td>windows_chrome</td>\n",
       "      <td>5</td>\n",
       "      <td>3358</td>\n",
       "      <td>13866,10057,10006,10063,10110</td>\n",
       "      <td>windows</td>\n",
       "      <td>chrome</td>\n",
       "    </tr>\n",
       "    <tr>\n",
       "      <th>4</th>\n",
       "      <td>0</td>\n",
       "      <td>1</td>\n",
       "      <td>18</td>\n",
       "      <td>windows_chrome</td>\n",
       "      <td>5</td>\n",
       "      <td>3476</td>\n",
       "      <td>10006,10063,13776,10110</td>\n",
       "      <td>windows</td>\n",
       "      <td>chrome</td>\n",
       "    </tr>\n",
       "  </tbody>\n",
       "</table>\n",
       "</div>"
      ],
      "text/plain": [
       "   click  weekday  hour       useragent  slotprice  advertiser  \\\n",
       "0      0        4    20      windows_ie          0        1458   \n",
       "1      0        1    21  windows_chrome          0        3476   \n",
       "2      0        4     8      windows_ie          5        3358   \n",
       "3      0        5    15  windows_chrome          5        3358   \n",
       "4      0        1    18  windows_chrome          5        3476   \n",
       "\n",
       "                                           usertag       os browser  \n",
       "0                                      13866,10111  windows      ie  \n",
       "1  10075,10057,10024,10052,10083,10063,10006,10110  windows  chrome  \n",
       "2  13866,10024,10059,10063,13776,10083,10006,10111  windows      ie  \n",
       "3                    13866,10057,10006,10063,10110  windows  chrome  \n",
       "4                          10006,10063,13776,10110  windows  chrome  "
      ]
     },
     "execution_count": 3,
     "metadata": {},
     "output_type": "execute_result"
    }
   ],
   "source": [
    "validation[\"os\"] = validation[\"useragent\"].map(lambda x:x.split('_')[0])\n",
    "validation[\"browser\"] = validation[\"useragent\"].map(lambda x:x.split('_')[1:][0])\n",
    "# width = validation[\"slotwidth\"].astype(\"str\")\n",
    "# height = validation[\"slotheight\"].astype(\"str\")\n",
    "# slotsize = width.str.cat(height, sep=\"*\")\n",
    "# validation[\"slotsize\"] = slotsize\n",
    "validation.head()"
   ]
  },
  {
   "cell_type": "code",
   "execution_count": 4,
   "metadata": {},
   "outputs": [
    {
     "data": {
      "text/html": [
       "<div>\n",
       "<style scoped>\n",
       "    .dataframe tbody tr th:only-of-type {\n",
       "        vertical-align: middle;\n",
       "    }\n",
       "\n",
       "    .dataframe tbody tr th {\n",
       "        vertical-align: top;\n",
       "    }\n",
       "\n",
       "    .dataframe thead th {\n",
       "        text-align: right;\n",
       "    }\n",
       "</style>\n",
       "<table border=\"1\" class=\"dataframe\">\n",
       "  <thead>\n",
       "    <tr style=\"text-align: right;\">\n",
       "      <th></th>\n",
       "      <th>weekday</th>\n",
       "      <th>hour</th>\n",
       "      <th>useragent</th>\n",
       "      <th>slotprice</th>\n",
       "      <th>advertiser</th>\n",
       "      <th>usertag</th>\n",
       "      <th>os</th>\n",
       "      <th>browser</th>\n",
       "    </tr>\n",
       "  </thead>\n",
       "  <tbody>\n",
       "    <tr>\n",
       "      <th>0</th>\n",
       "      <td>0</td>\n",
       "      <td>12</td>\n",
       "      <td>windows_chrome</td>\n",
       "      <td>10</td>\n",
       "      <td>3427</td>\n",
       "      <td>10024,10077,10075,10063,10031,10102,10006,1304...</td>\n",
       "      <td>windows</td>\n",
       "      <td>chrome</td>\n",
       "    </tr>\n",
       "    <tr>\n",
       "      <th>1</th>\n",
       "      <td>3</td>\n",
       "      <td>14</td>\n",
       "      <td>android_safari</td>\n",
       "      <td>5</td>\n",
       "      <td>2997</td>\n",
       "      <td>NaN</td>\n",
       "      <td>android</td>\n",
       "      <td>safari</td>\n",
       "    </tr>\n",
       "    <tr>\n",
       "      <th>2</th>\n",
       "      <td>5</td>\n",
       "      <td>19</td>\n",
       "      <td>windows_ie</td>\n",
       "      <td>0</td>\n",
       "      <td>1458</td>\n",
       "      <td>13866,10006,10024,10059,10048,10063,10067,1008...</td>\n",
       "      <td>windows</td>\n",
       "      <td>ie</td>\n",
       "    </tr>\n",
       "    <tr>\n",
       "      <th>3</th>\n",
       "      <td>0</td>\n",
       "      <td>21</td>\n",
       "      <td>windows_ie</td>\n",
       "      <td>30</td>\n",
       "      <td>2821</td>\n",
       "      <td>10075,13042,10006,10110,13776,10031,10063</td>\n",
       "      <td>windows</td>\n",
       "      <td>ie</td>\n",
       "    </tr>\n",
       "    <tr>\n",
       "      <th>4</th>\n",
       "      <td>2</td>\n",
       "      <td>20</td>\n",
       "      <td>windows_ie</td>\n",
       "      <td>50</td>\n",
       "      <td>3386</td>\n",
       "      <td>10063</td>\n",
       "      <td>windows</td>\n",
       "      <td>ie</td>\n",
       "    </tr>\n",
       "  </tbody>\n",
       "</table>\n",
       "</div>"
      ],
      "text/plain": [
       "   weekday  hour       useragent  slotprice  advertiser  \\\n",
       "0        0    12  windows_chrome         10        3427   \n",
       "1        3    14  android_safari          5        2997   \n",
       "2        5    19      windows_ie          0        1458   \n",
       "3        0    21      windows_ie         30        2821   \n",
       "4        2    20      windows_ie         50        3386   \n",
       "\n",
       "                                             usertag       os browser  \n",
       "0  10024,10077,10075,10063,10031,10102,10006,1304...  windows  chrome  \n",
       "1                                                NaN  android  safari  \n",
       "2  13866,10006,10024,10059,10048,10063,10067,1008...  windows      ie  \n",
       "3          10075,13042,10006,10110,13776,10031,10063  windows      ie  \n",
       "4                                              10063  windows      ie  "
      ]
     },
     "execution_count": 4,
     "metadata": {},
     "output_type": "execute_result"
    }
   ],
   "source": [
    "test[\"os\"] = test[\"useragent\"].map(lambda x:x.split('_')[0])\n",
    "test[\"browser\"] = test[\"useragent\"].map(lambda x:x.split('_')[1:][0])\n",
    "# width = test[\"slotwidth\"].astype(\"str\")\n",
    "# height = test[\"slotheight\"].astype(\"str\")\n",
    "# slotsize = width.str.cat(height, sep=\"*\")\n",
    "# test[\"slotsize\"] = slotsize\n",
    "test.head()"
   ]
  },
  {
   "cell_type": "code",
   "execution_count": 5,
   "metadata": {
    "collapsed": true
   },
   "outputs": [],
   "source": [
    "del train[\"useragent\"]\n",
    "# del train[\"slotwidth\"]\n",
    "# del train[\"slotheight\"]\n",
    "del validation[\"useragent\"]\n",
    "# del validation[\"slotwidth\"]\n",
    "# del validation[\"slotheight\"]"
   ]
  },
  {
   "cell_type": "code",
   "execution_count": 6,
   "metadata": {
    "collapsed": true
   },
   "outputs": [],
   "source": [
    "del test[\"useragent\"]\n",
    "# del test[\"slotwidth\"]\n",
    "# del test[\"slotheight\"]"
   ]
  },
  {
   "cell_type": "code",
   "execution_count": 7,
   "metadata": {
    "collapsed": true
   },
   "outputs": [],
   "source": [
    "train_weekday_dummy = pd.get_dummies(train['weekday'],prefix = \"weekday\")  \n",
    "train = train.join(train_weekday_dummy)"
   ]
  },
  {
   "cell_type": "code",
   "execution_count": 8,
   "metadata": {
    "collapsed": true
   },
   "outputs": [],
   "source": [
    "validation_weekday_dummy = pd.get_dummies(validation['weekday'],prefix = \"weekday\")  \n",
    "validation = validation.join(validation_weekday_dummy)"
   ]
  },
  {
   "cell_type": "code",
   "execution_count": 9,
   "metadata": {
    "collapsed": true
   },
   "outputs": [],
   "source": [
    "test_weekday_dummy = pd.get_dummies(test['weekday'],prefix = \"weekday\")  \n",
    "test = test.join(test_weekday_dummy)"
   ]
  },
  {
   "cell_type": "code",
   "execution_count": 10,
   "metadata": {
    "collapsed": true
   },
   "outputs": [],
   "source": [
    "del train['weekday']\n",
    "del validation['weekday']\n",
    "del test['weekday']"
   ]
  },
  {
   "cell_type": "code",
   "execution_count": 11,
   "metadata": {
    "collapsed": true
   },
   "outputs": [],
   "source": [
    "train_hour_dummy = pd.get_dummies(train['hour'],prefix = \"hour\")  \n",
    "train = train.join(train_hour_dummy)\n",
    "validation_hour_dummy = pd.get_dummies(validation['hour'],prefix = \"hour\")  \n",
    "validation = validation.join(validation_hour_dummy)"
   ]
  },
  {
   "cell_type": "code",
   "execution_count": 12,
   "metadata": {
    "collapsed": true
   },
   "outputs": [],
   "source": [
    "test_hour_dummy = pd.get_dummies(test['hour'],prefix = \"hour\")  \n",
    "test = test.join(test_hour_dummy)"
   ]
  },
  {
   "cell_type": "code",
   "execution_count": 13,
   "metadata": {
    "collapsed": true
   },
   "outputs": [],
   "source": [
    "del train['hour']\n",
    "del validation['hour']\n",
    "del test['hour']"
   ]
  },
  {
   "cell_type": "code",
   "execution_count": 24,
   "metadata": {
    "collapsed": true
   },
   "outputs": [],
   "source": [
    "train_advertiser_dummy = pd.get_dummies(train['advertiser'],prefix = \"advertiser\")  \n",
    "train = train.join(train_advertiser_dummy)\n",
    "validation_advertiser_dummy = pd.get_dummies(validation['advertiser'],prefix = \"advertiser\")  \n",
    "validation = validation.join(validation_advertiser_dummy)\n",
    "del train['advertiser']\n",
    "del validation['advertiser']"
   ]
  },
  {
   "cell_type": "code",
   "execution_count": 25,
   "metadata": {
    "collapsed": true
   },
   "outputs": [],
   "source": [
    "test_advertiser_dummy = pd.get_dummies(test['advertiser'],prefix = \"advertiser\")  \n",
    "test = test.join(test_advertiser_dummy)\n",
    "del test['advertiser']"
   ]
  },
  {
   "cell_type": "code",
   "execution_count": 26,
   "metadata": {
    "collapsed": true
   },
   "outputs": [],
   "source": [
    "train_os_dummy = pd.get_dummies(train['os'],prefix = \"os\")  \n",
    "train = train.join(train_os_dummy)\n",
    "validation_os_dummy = pd.get_dummies(validation['os'],prefix = \"os\")  \n",
    "validation = validation.join(validation_os_dummy)\n",
    "del train['os']\n",
    "del validation['os']"
   ]
  },
  {
   "cell_type": "code",
   "execution_count": 27,
   "metadata": {
    "collapsed": true
   },
   "outputs": [],
   "source": [
    "test_os_dummy = pd.get_dummies(test['os'],prefix = \"os\")  \n",
    "test = test.join(test_os_dummy)\n",
    "del test['os']"
   ]
  },
  {
   "cell_type": "code",
   "execution_count": 28,
   "metadata": {
    "collapsed": true
   },
   "outputs": [],
   "source": [
    "train_browser_dummy = pd.get_dummies(train['browser'],prefix = \"browser\")  \n",
    "train = train.join(train_browser_dummy)\n",
    "validation_browser_dummy = pd.get_dummies(validation['browser'],prefix = \"browser\")  \n",
    "validation = validation.join(validation_browser_dummy)\n",
    "del train['browser']\n",
    "del validation['browser']"
   ]
  },
  {
   "cell_type": "code",
   "execution_count": 29,
   "metadata": {
    "collapsed": true
   },
   "outputs": [],
   "source": [
    "test_browser_dummy = pd.get_dummies(test['browser'],prefix = \"browser\")  \n",
    "test = test.join(test_browser_dummy)\n",
    "del test['browser']"
   ]
  },
  {
   "cell_type": "code",
   "execution_count": 35,
   "metadata": {
    "collapsed": true
   },
   "outputs": [],
   "source": [
    "train_usertag = pd.read_csv(\"dummy_tag_train.csv\")"
   ]
  },
  {
   "cell_type": "code",
   "execution_count": 36,
   "metadata": {
    "collapsed": true
   },
   "outputs": [],
   "source": [
    "train_usertag = train_usertag[train_usertag.columns[1:]]"
   ]
  },
  {
   "cell_type": "code",
   "execution_count": 37,
   "metadata": {
    "collapsed": true
   },
   "outputs": [],
   "source": [
    "train = train.join(train_usertag)"
   ]
  },
  {
   "cell_type": "code",
   "execution_count": 38,
   "metadata": {
    "collapsed": true
   },
   "outputs": [],
   "source": [
    "# pd.DataFrame(train).to_csv('train_processed.csv')"
   ]
  },
  {
   "cell_type": "code",
   "execution_count": 39,
   "metadata": {},
   "outputs": [
    {
     "data": {
      "text/plain": [
       "(2430981, 125)"
      ]
     },
     "execution_count": 39,
     "metadata": {},
     "output_type": "execute_result"
    }
   ],
   "source": [
    "train_x = train[train.columns[1:]]\n",
    "train_y = train[train.columns[0]]\n",
    "train_x.shape"
   ]
  },
  {
   "cell_type": "code",
   "execution_count": 40,
   "metadata": {
    "collapsed": true
   },
   "outputs": [],
   "source": [
    "# from sklearn.linear_model import LogisticRegression\n",
    "# # data['intercept'] = 1.0  \n",
    "# # train_cols = data.columns[1:]  \n",
    "# classifier = LogisticRegression()\n",
    "# classifier.fit(train_x, train_y) "
   ]
  },
  {
   "cell_type": "code",
   "execution_count": 41,
   "metadata": {
    "collapsed": true
   },
   "outputs": [],
   "source": [
    "import collections\n",
    "users_val = collections.defaultdict()\n",
    "i = 0\n",
    "for user in validation[\"usertag\"]:\n",
    "    users_val[i] = str(user).split(',')\n",
    "    i += 1"
   ]
  },
  {
   "cell_type": "code",
   "execution_count": 42,
   "metadata": {
    "collapsed": true
   },
   "outputs": [],
   "source": [
    "s_val = pd.Series(users_val)\n",
    "dataframe_val = pd.get_dummies(s_val.apply(pd.Series).stack()).sum(level=0)"
   ]
  },
  {
   "cell_type": "code",
   "execution_count": 43,
   "metadata": {
    "collapsed": true
   },
   "outputs": [],
   "source": [
    "validation = validation.join(dataframe_val)"
   ]
  },
  {
   "cell_type": "code",
   "execution_count": 44,
   "metadata": {},
   "outputs": [
    {
     "data": {
      "text/plain": [
       "(303925, 126)"
      ]
     },
     "execution_count": 44,
     "metadata": {},
     "output_type": "execute_result"
    }
   ],
   "source": [
    "del validation[\"usertag\"]\n",
    "validation.shape"
   ]
  },
  {
   "cell_type": "code",
   "execution_count": 45,
   "metadata": {
    "collapsed": true
   },
   "outputs": [],
   "source": [
    "# validation.rename(columns={'nan': 'null'}, inplace=True)"
   ]
  },
  {
   "cell_type": "code",
   "execution_count": 46,
   "metadata": {
    "collapsed": true
   },
   "outputs": [],
   "source": [
    "del train[\"null\"]\n",
    "del validation[\"nan\"]"
   ]
  },
  {
   "cell_type": "code",
   "execution_count": 47,
   "metadata": {},
   "outputs": [
    {
     "data": {
      "text/plain": [
       "(303925, 124)"
      ]
     },
     "execution_count": 47,
     "metadata": {},
     "output_type": "execute_result"
    }
   ],
   "source": [
    "validation_x = validation[validation.columns[1:]]\n",
    "validation_y = validation[validation.columns[0]]\n",
    "validation_x.shape"
   ]
  },
  {
   "cell_type": "code",
   "execution_count": 48,
   "metadata": {
    "collapsed": true
   },
   "outputs": [],
   "source": [
    "users_test = collections.defaultdict()\n",
    "i = 0\n",
    "for user in test[\"usertag\"]:\n",
    "    users_test[i] = str(user).split(',')\n",
    "    i += 1"
   ]
  },
  {
   "cell_type": "code",
   "execution_count": 49,
   "metadata": {
    "collapsed": true
   },
   "outputs": [],
   "source": [
    "s_test = pd.Series(users_test)\n",
    "dataframe_test = pd.get_dummies(s_test.apply(pd.Series).stack()).sum(level=0)"
   ]
  },
  {
   "cell_type": "code",
   "execution_count": 50,
   "metadata": {
    "collapsed": true
   },
   "outputs": [],
   "source": [
    "test = test.join(dataframe_test)"
   ]
  },
  {
   "cell_type": "code",
   "execution_count": 51,
   "metadata": {},
   "outputs": [
    {
     "data": {
      "text/plain": [
       "(303375, 125)"
      ]
     },
     "execution_count": 51,
     "metadata": {},
     "output_type": "execute_result"
    }
   ],
   "source": [
    "del test[\"usertag\"]\n",
    "test.shape"
   ]
  },
  {
   "cell_type": "code",
   "execution_count": 53,
   "metadata": {
    "collapsed": true
   },
   "outputs": [],
   "source": [
    "# test.rename(columns={'nan': 'null'}, inplace=True)\n",
    "del test['nan']"
   ]
  },
  {
   "cell_type": "code",
   "execution_count": 230,
   "metadata": {
    "collapsed": true
   },
   "outputs": [],
   "source": [
    "del train_x[\"null\"]"
   ]
  },
  {
   "cell_type": "code",
   "execution_count": 231,
   "metadata": {
    "scrolled": true
   },
   "outputs": [
    {
     "data": {
      "text/html": [
       "<div>\n",
       "<style scoped>\n",
       "    .dataframe tbody tr th:only-of-type {\n",
       "        vertical-align: middle;\n",
       "    }\n",
       "\n",
       "    .dataframe tbody tr th {\n",
       "        vertical-align: top;\n",
       "    }\n",
       "\n",
       "    .dataframe thead th {\n",
       "        text-align: right;\n",
       "    }\n",
       "</style>\n",
       "<table border=\"1\" class=\"dataframe\">\n",
       "  <thead>\n",
       "    <tr style=\"text-align: right;\">\n",
       "      <th></th>\n",
       "      <th>slotprice</th>\n",
       "      <th>weekday_0</th>\n",
       "      <th>weekday_1</th>\n",
       "      <th>weekday_2</th>\n",
       "      <th>weekday_3</th>\n",
       "      <th>weekday_4</th>\n",
       "      <th>weekday_5</th>\n",
       "      <th>weekday_6</th>\n",
       "      <th>hour_0</th>\n",
       "      <th>hour_1</th>\n",
       "      <th>...</th>\n",
       "      <th>13866</th>\n",
       "      <th>13874</th>\n",
       "      <th>14273</th>\n",
       "      <th>15398</th>\n",
       "      <th>16593</th>\n",
       "      <th>16617</th>\n",
       "      <th>16661</th>\n",
       "      <th>16706</th>\n",
       "      <th>16751</th>\n",
       "      <th>16753</th>\n",
       "    </tr>\n",
       "  </thead>\n",
       "  <tbody>\n",
       "    <tr>\n",
       "      <th>0</th>\n",
       "      <td>5</td>\n",
       "      <td>0</td>\n",
       "      <td>0</td>\n",
       "      <td>0</td>\n",
       "      <td>0</td>\n",
       "      <td>0</td>\n",
       "      <td>1</td>\n",
       "      <td>0</td>\n",
       "      <td>0</td>\n",
       "      <td>0</td>\n",
       "      <td>...</td>\n",
       "      <td>0</td>\n",
       "      <td>0</td>\n",
       "      <td>0</td>\n",
       "      <td>0</td>\n",
       "      <td>0</td>\n",
       "      <td>0</td>\n",
       "      <td>0</td>\n",
       "      <td>0</td>\n",
       "      <td>0</td>\n",
       "      <td>0</td>\n",
       "    </tr>\n",
       "    <tr>\n",
       "      <th>1</th>\n",
       "      <td>0</td>\n",
       "      <td>0</td>\n",
       "      <td>1</td>\n",
       "      <td>0</td>\n",
       "      <td>0</td>\n",
       "      <td>0</td>\n",
       "      <td>0</td>\n",
       "      <td>0</td>\n",
       "      <td>0</td>\n",
       "      <td>0</td>\n",
       "      <td>...</td>\n",
       "      <td>0</td>\n",
       "      <td>0</td>\n",
       "      <td>0</td>\n",
       "      <td>0</td>\n",
       "      <td>0</td>\n",
       "      <td>0</td>\n",
       "      <td>0</td>\n",
       "      <td>0</td>\n",
       "      <td>0</td>\n",
       "      <td>0</td>\n",
       "    </tr>\n",
       "    <tr>\n",
       "      <th>2</th>\n",
       "      <td>5</td>\n",
       "      <td>0</td>\n",
       "      <td>0</td>\n",
       "      <td>0</td>\n",
       "      <td>1</td>\n",
       "      <td>0</td>\n",
       "      <td>0</td>\n",
       "      <td>0</td>\n",
       "      <td>0</td>\n",
       "      <td>0</td>\n",
       "      <td>...</td>\n",
       "      <td>1</td>\n",
       "      <td>0</td>\n",
       "      <td>0</td>\n",
       "      <td>0</td>\n",
       "      <td>0</td>\n",
       "      <td>0</td>\n",
       "      <td>0</td>\n",
       "      <td>0</td>\n",
       "      <td>0</td>\n",
       "      <td>0</td>\n",
       "    </tr>\n",
       "    <tr>\n",
       "      <th>3</th>\n",
       "      <td>0</td>\n",
       "      <td>0</td>\n",
       "      <td>0</td>\n",
       "      <td>0</td>\n",
       "      <td>0</td>\n",
       "      <td>0</td>\n",
       "      <td>0</td>\n",
       "      <td>1</td>\n",
       "      <td>0</td>\n",
       "      <td>0</td>\n",
       "      <td>...</td>\n",
       "      <td>1</td>\n",
       "      <td>0</td>\n",
       "      <td>0</td>\n",
       "      <td>0</td>\n",
       "      <td>0</td>\n",
       "      <td>0</td>\n",
       "      <td>0</td>\n",
       "      <td>0</td>\n",
       "      <td>0</td>\n",
       "      <td>0</td>\n",
       "    </tr>\n",
       "    <tr>\n",
       "      <th>4</th>\n",
       "      <td>133</td>\n",
       "      <td>0</td>\n",
       "      <td>0</td>\n",
       "      <td>0</td>\n",
       "      <td>0</td>\n",
       "      <td>0</td>\n",
       "      <td>1</td>\n",
       "      <td>0</td>\n",
       "      <td>0</td>\n",
       "      <td>0</td>\n",
       "      <td>...</td>\n",
       "      <td>0</td>\n",
       "      <td>0</td>\n",
       "      <td>0</td>\n",
       "      <td>0</td>\n",
       "      <td>0</td>\n",
       "      <td>0</td>\n",
       "      <td>0</td>\n",
       "      <td>0</td>\n",
       "      <td>0</td>\n",
       "      <td>0</td>\n",
       "    </tr>\n",
       "  </tbody>\n",
       "</table>\n",
       "<p>5 rows × 124 columns</p>\n",
       "</div>"
      ],
      "text/plain": [
       "   slotprice  weekday_0  weekday_1  weekday_2  weekday_3  weekday_4  \\\n",
       "0          5          0          0          0          0          0   \n",
       "1          0          0          1          0          0          0   \n",
       "2          5          0          0          0          1          0   \n",
       "3          0          0          0          0          0          0   \n",
       "4        133          0          0          0          0          0   \n",
       "\n",
       "   weekday_5  weekday_6  hour_0  hour_1  ...    13866  13874  14273  15398  \\\n",
       "0          1          0       0       0  ...        0      0      0      0   \n",
       "1          0          0       0       0  ...        0      0      0      0   \n",
       "2          0          0       0       0  ...        1      0      0      0   \n",
       "3          0          1       0       0  ...        1      0      0      0   \n",
       "4          1          0       0       0  ...        0      0      0      0   \n",
       "\n",
       "   16593  16617  16661  16706  16751  16753  \n",
       "0      0      0      0      0      0      0  \n",
       "1      0      0      0      0      0      0  \n",
       "2      0      0      0      0      0      0  \n",
       "3      0      0      0      0      0      0  \n",
       "4      0      0      0      0      0      0  \n",
       "\n",
       "[5 rows x 124 columns]"
      ]
     },
     "execution_count": 231,
     "metadata": {},
     "output_type": "execute_result"
    }
   ],
   "source": [
    "train_x.head()"
   ]
  },
  {
   "cell_type": "code",
   "execution_count": 245,
   "metadata": {},
   "outputs": [
    {
     "data": {
      "text/plain": [
       "RandomForestClassifier(bootstrap=True, class_weight=None, criterion='gini',\n",
       "            max_depth=5, max_features='auto', max_leaf_nodes=None,\n",
       "            min_impurity_decrease=0.0, min_impurity_split=None,\n",
       "            min_samples_leaf=1, min_samples_split=2,\n",
       "            min_weight_fraction_leaf=0.0, n_estimators=10, n_jobs=1,\n",
       "            oob_score=False, random_state=0, verbose=0, warm_start=False)"
      ]
     },
     "execution_count": 245,
     "metadata": {},
     "output_type": "execute_result"
    }
   ],
   "source": [
    "# from sklearn.ensemble import RandomForestClassifier\n",
    "# clf = RandomForestClassifier(max_depth=5, random_state=0)\n",
    "# clf.fit(train_x, train_y)"
   ]
  },
  {
   "cell_type": "code",
   "execution_count": 246,
   "metadata": {
    "collapsed": true
   },
   "outputs": [],
   "source": [
    "# forest = clf.predict_proba(validation_x)"
   ]
  },
  {
   "cell_type": "code",
   "execution_count": 247,
   "metadata": {
    "scrolled": true
   },
   "outputs": [
    {
     "data": {
      "text/plain": [
       "array([ 0.00076283,  0.00043642,  0.00054353,  0.00043816,  0.00040114,\n",
       "        0.00064198,  0.00054423,  0.00057554,  0.00038461,  0.00057653])"
      ]
     },
     "execution_count": 247,
     "metadata": {},
     "output_type": "execute_result"
    }
   ],
   "source": [
    "# forest[:,1][:10]"
   ]
  },
  {
   "cell_type": "code",
   "execution_count": 248,
   "metadata": {
    "collapsed": true
   },
   "outputs": [],
   "source": [
    "# import pandas as pd\n",
    "# train_for_CTR = pd.read_csv('..\\\\Coursework\\\\Dataset\\\\train.csv', usecols=('payprice','click'))\n",
    "# val = pd.read_csv('..\\\\Coursework\\\\Dataset\\\\validation.csv')"
   ]
  },
  {
   "cell_type": "code",
   "execution_count": 254,
   "metadata": {},
   "outputs": [
    {
     "name": "stdout",
     "output_type": "stream",
     "text": [
      "0.000737562325662\n",
      "70 132 1647458\n",
      "71 132 1499898\n",
      "72 134 1386864\n",
      "73 134 1304453\n",
      "74 135 1192057\n",
      "75 135 1071778\n",
      "76 135 961308\n",
      "77 136 822702\n",
      "78 139 681443\n",
      "79 139 575466\n",
      "80 139 475969\n",
      "81 139 349204\n",
      "82 140 221813\n",
      "83 140 117991\n",
      "84 140 31311\n",
      "85 139 0\n",
      "86 137 0\n",
      "87 134 0\n",
      "88 129 0\n",
      "89 127 0\n"
     ]
    }
   ],
   "source": [
    "# avgCTR = train_for_CTR['click'].sum()/train_for_CTR['click'].agg('count')\n",
    "# print(avgCTR)\n",
    "# for basebid in range(70,90):\n",
    "#     sum = 6250 * 1000\n",
    "#     clicks = 0\n",
    "#     for pay,click,pCTR in zip(val[\"payprice\"],val['click'],forest[:,1]):\n",
    "#         sum_sub = sum - pay\n",
    "#         bidprice = basebid * pCTR / avgCTR\n",
    "#         if bidprice-pay > 0 and sum_sub >= 0:\n",
    "#             sum = sum_sub\n",
    "#             clicks += click\n",
    "#     print(basebid, clicks, sum)"
   ]
  },
  {
   "cell_type": "code",
   "execution_count": 168,
   "metadata": {
    "scrolled": true
   },
   "outputs": [
    {
     "name": "stdout",
     "output_type": "stream",
     "text": [
      "[0]\ttrain-auc:0.661788\tvalid-auc:0.687207\n",
      "Multiple eval metrics have been passed: 'valid-auc' will be used for early stopping.\n",
      "\n",
      "Will train until valid-auc hasn't improved in 100 rounds.\n",
      "[10]\ttrain-auc:0.733254\tvalid-auc:0.742467\n",
      "[20]\ttrain-auc:0.76139\tvalid-auc:0.765494\n",
      "[30]\ttrain-auc:0.763545\tvalid-auc:0.766415\n",
      "[40]\ttrain-auc:0.824098\tvalid-auc:0.812992\n",
      "[50]\ttrain-auc:0.833855\tvalid-auc:0.819107\n",
      "[60]\ttrain-auc:0.865831\tvalid-auc:0.846246\n",
      "[70]\ttrain-auc:0.876305\tvalid-auc:0.850691\n",
      "[80]\ttrain-auc:0.895018\tvalid-auc:0.849622\n",
      "[90]\ttrain-auc:0.901331\tvalid-auc:0.848418\n",
      "[100]\ttrain-auc:0.91299\tvalid-auc:0.854218\n",
      "[110]\ttrain-auc:0.923229\tvalid-auc:0.858996\n",
      "[120]\ttrain-auc:0.934916\tvalid-auc:0.863354\n",
      "[130]\ttrain-auc:0.942256\tvalid-auc:0.86509\n",
      "[140]\ttrain-auc:0.947422\tvalid-auc:0.86658\n",
      "[150]\ttrain-auc:0.95254\tvalid-auc:0.868649\n",
      "[160]\ttrain-auc:0.955836\tvalid-auc:0.871345\n",
      "[170]\ttrain-auc:0.957703\tvalid-auc:0.872014\n",
      "[180]\ttrain-auc:0.959978\tvalid-auc:0.872661\n",
      "[190]\ttrain-auc:0.961845\tvalid-auc:0.873421\n",
      "[200]\ttrain-auc:0.963602\tvalid-auc:0.874418\n",
      "[210]\ttrain-auc:0.965201\tvalid-auc:0.874816\n",
      "[220]\ttrain-auc:0.966622\tvalid-auc:0.875663\n",
      "[230]\ttrain-auc:0.967895\tvalid-auc:0.876109\n",
      "[240]\ttrain-auc:0.969122\tvalid-auc:0.877573\n",
      "[250]\ttrain-auc:0.970401\tvalid-auc:0.878303\n",
      "[260]\ttrain-auc:0.971315\tvalid-auc:0.87804\n",
      "[270]\ttrain-auc:0.972293\tvalid-auc:0.877548\n",
      "[280]\ttrain-auc:0.972828\tvalid-auc:0.876861\n",
      "[290]\ttrain-auc:0.973261\tvalid-auc:0.876779\n",
      "[300]\ttrain-auc:0.973859\tvalid-auc:0.876606\n",
      "[310]\ttrain-auc:0.974468\tvalid-auc:0.876493\n",
      "[320]\ttrain-auc:0.974854\tvalid-auc:0.877005\n",
      "[330]\ttrain-auc:0.975474\tvalid-auc:0.876981\n",
      "[340]\ttrain-auc:0.976278\tvalid-auc:0.877423\n",
      "[350]\ttrain-auc:0.976715\tvalid-auc:0.877703\n",
      "Stopping. Best iteration:\n",
      "[252]\ttrain-auc:0.970506\tvalid-auc:0.878366\n",
      "\n",
      "[ 0.00106723  0.00025143  0.00065358 ...,  0.00534508  0.00105827\n",
      "  0.00100249]\n",
      "[  2.74818530e-03   1.35491863e-02   6.75423362e-04 ...,   1.24753837e-03\n",
      "   2.24755779e-02   9.92033310e-05]\n",
      "[0]\ttrain-auc:0.678805\tvalid-auc:0.654836\n",
      "Multiple eval metrics have been passed: 'valid-auc' will be used for early stopping.\n",
      "\n",
      "Will train until valid-auc hasn't improved in 100 rounds.\n",
      "[10]\ttrain-auc:0.752727\tvalid-auc:0.742376\n",
      "[20]\ttrain-auc:0.754032\tvalid-auc:0.743398\n",
      "[30]\ttrain-auc:0.776831\tvalid-auc:0.776519\n",
      "[40]\ttrain-auc:0.778587\tvalid-auc:0.777182\n",
      "[50]\ttrain-auc:0.848303\tvalid-auc:0.826356\n",
      "[60]\ttrain-auc:0.8652\tvalid-auc:0.832147\n",
      "[70]\ttrain-auc:0.876268\tvalid-auc:0.838884\n",
      "[80]\ttrain-auc:0.893908\tvalid-auc:0.849244\n",
      "[90]\ttrain-auc:0.906085\tvalid-auc:0.85304\n",
      "[100]\ttrain-auc:0.915177\tvalid-auc:0.858759\n",
      "[110]\ttrain-auc:0.923757\tvalid-auc:0.860087\n",
      "[120]\ttrain-auc:0.934472\tvalid-auc:0.863848\n",
      "[130]\ttrain-auc:0.942325\tvalid-auc:0.867202\n",
      "[140]\ttrain-auc:0.949106\tvalid-auc:0.868837\n",
      "[150]\ttrain-auc:0.95238\tvalid-auc:0.870606\n",
      "[160]\ttrain-auc:0.955259\tvalid-auc:0.872706\n",
      "[170]\ttrain-auc:0.957117\tvalid-auc:0.872984\n",
      "[180]\ttrain-auc:0.958566\tvalid-auc:0.872688\n",
      "[190]\ttrain-auc:0.959764\tvalid-auc:0.873289\n",
      "[200]\ttrain-auc:0.961688\tvalid-auc:0.873033\n",
      "[210]\ttrain-auc:0.963539\tvalid-auc:0.873183\n",
      "[220]\ttrain-auc:0.964271\tvalid-auc:0.873087\n",
      "[230]\ttrain-auc:0.965478\tvalid-auc:0.872656\n",
      "[240]\ttrain-auc:0.966675\tvalid-auc:0.87192\n",
      "[250]\ttrain-auc:0.967537\tvalid-auc:0.871874\n",
      "[260]\ttrain-auc:0.968458\tvalid-auc:0.870817\n",
      "[270]\ttrain-auc:0.96902\tvalid-auc:0.870314\n",
      "[280]\ttrain-auc:0.970228\tvalid-auc:0.870733\n",
      "[290]\ttrain-auc:0.971266\tvalid-auc:0.869826\n",
      "Stopping. Best iteration:\n",
      "[192]\ttrain-auc:0.960253\tvalid-auc:0.873535\n",
      "\n",
      "[ 0.00254995  0.00152563  0.00015035 ...,  0.00250862  0.00502449\n",
      "  0.00281531]\n",
      "[ 0.00129779  0.00940422  0.00012814 ...,  0.00082616  0.00267946\n",
      "  0.00059838]\n",
      "[0]\ttrain-auc:0.675413\tvalid-auc:0.671595\n",
      "Multiple eval metrics have been passed: 'valid-auc' will be used for early stopping.\n",
      "\n",
      "Will train until valid-auc hasn't improved in 100 rounds.\n",
      "[10]\ttrain-auc:0.792465\tvalid-auc:0.761761\n",
      "[20]\ttrain-auc:0.793402\tvalid-auc:0.762758\n",
      "[30]\ttrain-auc:0.794804\tvalid-auc:0.762607\n",
      "[40]\ttrain-auc:0.797882\tvalid-auc:0.763429\n",
      "[50]\ttrain-auc:0.825915\tvalid-auc:0.79397\n",
      "[60]\ttrain-auc:0.864896\tvalid-auc:0.833537\n",
      "[70]\ttrain-auc:0.872402\tvalid-auc:0.838615\n",
      "[80]\ttrain-auc:0.882218\tvalid-auc:0.846821\n",
      "[90]\ttrain-auc:0.894493\tvalid-auc:0.852931\n",
      "[100]\ttrain-auc:0.911874\tvalid-auc:0.854495\n",
      "[110]\ttrain-auc:0.920714\tvalid-auc:0.857977\n",
      "[120]\ttrain-auc:0.933258\tvalid-auc:0.860563\n",
      "[130]\ttrain-auc:0.9423\tvalid-auc:0.866412\n",
      "[140]\ttrain-auc:0.950286\tvalid-auc:0.870756\n",
      "[150]\ttrain-auc:0.955037\tvalid-auc:0.872105\n",
      "[160]\ttrain-auc:0.956949\tvalid-auc:0.873253\n",
      "[170]\ttrain-auc:0.959251\tvalid-auc:0.873335\n",
      "[180]\ttrain-auc:0.961039\tvalid-auc:0.873507\n",
      "[190]\ttrain-auc:0.962687\tvalid-auc:0.873411\n",
      "[200]\ttrain-auc:0.964083\tvalid-auc:0.873538\n",
      "[210]\ttrain-auc:0.964928\tvalid-auc:0.873986\n",
      "[220]\ttrain-auc:0.96668\tvalid-auc:0.873751\n",
      "[230]\ttrain-auc:0.968019\tvalid-auc:0.873552\n",
      "[240]\ttrain-auc:0.968658\tvalid-auc:0.873387\n",
      "[250]\ttrain-auc:0.969538\tvalid-auc:0.873474\n",
      "[260]\ttrain-auc:0.970238\tvalid-auc:0.873728\n",
      "[270]\ttrain-auc:0.970823\tvalid-auc:0.874075\n",
      "[280]\ttrain-auc:0.972044\tvalid-auc:0.873644\n",
      "[290]\ttrain-auc:0.973074\tvalid-auc:0.8729\n",
      "[300]\ttrain-auc:0.974262\tvalid-auc:0.872838\n",
      "[310]\ttrain-auc:0.975103\tvalid-auc:0.872445\n",
      "Stopping. Best iteration:\n",
      "[217]\ttrain-auc:0.966381\tvalid-auc:0.874352\n",
      "\n",
      "[ 0.00045121  0.00054189  0.00023901 ...,  0.003668    0.01147227\n",
      "  0.00097705]\n",
      "[  4.24571626e-04   2.27698535e-02   1.59929303e-04 ...,   1.55034871e-03\n",
      "   3.34892864e-03   9.92448695e-05]\n",
      "[0]\ttrain-auc:0.678585\tvalid-auc:0.656901\n",
      "Multiple eval metrics have been passed: 'valid-auc' will be used for early stopping.\n",
      "\n",
      "Will train until valid-auc hasn't improved in 100 rounds.\n",
      "[10]\ttrain-auc:0.743646\tvalid-auc:0.739312\n",
      "[20]\ttrain-auc:0.745414\tvalid-auc:0.740527\n",
      "[30]\ttrain-auc:0.770113\tvalid-auc:0.766931\n",
      "[40]\ttrain-auc:0.804221\tvalid-auc:0.808699\n",
      "[50]\ttrain-auc:0.849757\tvalid-auc:0.843877\n",
      "[60]\ttrain-auc:0.867204\tvalid-auc:0.85238\n",
      "[70]\ttrain-auc:0.889124\tvalid-auc:0.868425\n",
      "[80]\ttrain-auc:0.898825\tvalid-auc:0.872015\n",
      "[90]\ttrain-auc:0.913624\tvalid-auc:0.878536\n",
      "[100]\ttrain-auc:0.923926\tvalid-auc:0.883031\n",
      "[110]\ttrain-auc:0.931178\tvalid-auc:0.883542\n",
      "[120]\ttrain-auc:0.938444\tvalid-auc:0.881391\n",
      "[130]\ttrain-auc:0.945975\tvalid-auc:0.882046\n",
      "[140]\ttrain-auc:0.951802\tvalid-auc:0.879929\n",
      "[150]\ttrain-auc:0.955469\tvalid-auc:0.87815\n",
      "[160]\ttrain-auc:0.957839\tvalid-auc:0.877317\n",
      "[170]\ttrain-auc:0.959948\tvalid-auc:0.877688\n",
      "[180]\ttrain-auc:0.961438\tvalid-auc:0.876801\n",
      "[190]\ttrain-auc:0.962757\tvalid-auc:0.876715\n",
      "[200]\ttrain-auc:0.963631\tvalid-auc:0.877399\n",
      "Stopping. Best iteration:\n",
      "[102]\ttrain-auc:0.925692\tvalid-auc:0.88377\n",
      "\n",
      "[ 0.00062982  0.00056641  0.00125123 ...,  0.00538561  0.00224943\n",
      "  0.00103029]\n",
      "[ 0.00123755  0.01859321  0.00068928 ...,  0.00034828  0.01237624\n",
      "  0.00041444]\n",
      "[0]\ttrain-auc:0.666766\tvalid-auc:0.672589\n",
      "Multiple eval metrics have been passed: 'valid-auc' will be used for early stopping.\n",
      "\n",
      "Will train until valid-auc hasn't improved in 100 rounds.\n",
      "[10]\ttrain-auc:0.744359\tvalid-auc:0.759123\n",
      "[20]\ttrain-auc:0.772791\tvalid-auc:0.789679\n",
      "[30]\ttrain-auc:0.775775\tvalid-auc:0.788651\n",
      "[40]\ttrain-auc:0.829653\tvalid-auc:0.830288\n",
      "[50]\ttrain-auc:0.85729\tvalid-auc:0.850854\n",
      "[60]\ttrain-auc:0.869524\tvalid-auc:0.854519\n",
      "[70]\ttrain-auc:0.882639\tvalid-auc:0.85694\n",
      "[80]\ttrain-auc:0.904205\tvalid-auc:0.866906\n",
      "[90]\ttrain-auc:0.909905\tvalid-auc:0.865943\n",
      "[100]\ttrain-auc:0.919642\tvalid-auc:0.871765\n",
      "[110]\ttrain-auc:0.924813\tvalid-auc:0.873689\n",
      "[120]\ttrain-auc:0.92846\tvalid-auc:0.870337\n",
      "[130]\ttrain-auc:0.938113\tvalid-auc:0.873281\n",
      "[140]\ttrain-auc:0.944444\tvalid-auc:0.872643\n",
      "[150]\ttrain-auc:0.95119\tvalid-auc:0.875934\n",
      "[160]\ttrain-auc:0.954932\tvalid-auc:0.87788\n",
      "[170]\ttrain-auc:0.957713\tvalid-auc:0.875216\n",
      "[180]\ttrain-auc:0.960339\tvalid-auc:0.873586\n",
      "[190]\ttrain-auc:0.962131\tvalid-auc:0.873868\n",
      "[200]\ttrain-auc:0.963514\tvalid-auc:0.872917\n",
      "[210]\ttrain-auc:0.965079\tvalid-auc:0.873263\n",
      "[220]\ttrain-auc:0.966867\tvalid-auc:0.872855\n",
      "[230]\ttrain-auc:0.9686\tvalid-auc:0.872479\n",
      "[240]\ttrain-auc:0.969514\tvalid-auc:0.87205\n",
      "[250]\ttrain-auc:0.970503\tvalid-auc:0.871253\n",
      "[260]\ttrain-auc:0.971292\tvalid-auc:0.871424\n",
      "Stopping. Best iteration:\n",
      "[160]\ttrain-auc:0.954932\tvalid-auc:0.87788\n",
      "\n",
      "[ 0.00205629  0.0007554   0.00140093 ...,  0.00404365  0.00113135\n",
      "  0.00180237]\n"
     ]
    },
    {
     "name": "stdout",
     "output_type": "stream",
     "text": [
      "[ 0.00655669  0.01497077  0.00052171 ...,  0.00037219  0.00898459\n",
      "  0.00066792]\n",
      "[0]\ttrain-auc:0.678446\tvalid-auc:0.657999\n",
      "Multiple eval metrics have been passed: 'valid-auc' will be used for early stopping.\n",
      "\n",
      "Will train until valid-auc hasn't improved in 100 rounds.\n",
      "[10]\ttrain-auc:0.756536\tvalid-auc:0.744618\n",
      "[20]\ttrain-auc:0.790545\tvalid-auc:0.783268\n",
      "[30]\ttrain-auc:0.790773\tvalid-auc:0.783233\n",
      "[40]\ttrain-auc:0.794317\tvalid-auc:0.786228\n",
      "[50]\ttrain-auc:0.854482\tvalid-auc:0.833919\n",
      "[60]\ttrain-auc:0.868055\tvalid-auc:0.834534\n",
      "[70]\ttrain-auc:0.888647\tvalid-auc:0.857767\n",
      "[80]\ttrain-auc:0.89707\tvalid-auc:0.861945\n",
      "[90]\ttrain-auc:0.907673\tvalid-auc:0.868347\n",
      "[100]\ttrain-auc:0.923375\tvalid-auc:0.877833\n",
      "[110]\ttrain-auc:0.933452\tvalid-auc:0.883733\n",
      "[120]\ttrain-auc:0.941386\tvalid-auc:0.883433\n",
      "[130]\ttrain-auc:0.949796\tvalid-auc:0.886357\n",
      "[140]\ttrain-auc:0.95488\tvalid-auc:0.886118\n",
      "[150]\ttrain-auc:0.959074\tvalid-auc:0.886484\n",
      "[160]\ttrain-auc:0.961631\tvalid-auc:0.887944\n",
      "[170]\ttrain-auc:0.964057\tvalid-auc:0.888329\n",
      "[180]\ttrain-auc:0.965355\tvalid-auc:0.888328\n",
      "[190]\ttrain-auc:0.966479\tvalid-auc:0.888555\n",
      "[200]\ttrain-auc:0.96727\tvalid-auc:0.888778\n",
      "[210]\ttrain-auc:0.969157\tvalid-auc:0.889482\n",
      "[220]\ttrain-auc:0.970754\tvalid-auc:0.889291\n",
      "[230]\ttrain-auc:0.97181\tvalid-auc:0.88882\n",
      "[240]\ttrain-auc:0.973342\tvalid-auc:0.888921\n",
      "[250]\ttrain-auc:0.974112\tvalid-auc:0.888546\n",
      "[260]\ttrain-auc:0.975166\tvalid-auc:0.88851\n",
      "[270]\ttrain-auc:0.976593\tvalid-auc:0.888822\n",
      "[280]\ttrain-auc:0.977516\tvalid-auc:0.888484\n",
      "[290]\ttrain-auc:0.978444\tvalid-auc:0.888239\n",
      "[300]\ttrain-auc:0.979067\tvalid-auc:0.888661\n",
      "[310]\ttrain-auc:0.979724\tvalid-auc:0.88861\n",
      "Stopping. Best iteration:\n",
      "[217]\ttrain-auc:0.970267\tvalid-auc:0.889773\n",
      "\n",
      "[ 0.00164289  0.00059823  0.0002163  ...,  0.00318563  0.00240346\n",
      "  0.00262902]\n",
      "[ 0.00132255  0.01588906  0.00012857 ...,  0.00081208  0.00330647\n",
      "  0.0015646 ]\n",
      "[0]\ttrain-auc:0.674357\tvalid-auc:0.664881\n",
      "Multiple eval metrics have been passed: 'valid-auc' will be used for early stopping.\n",
      "\n",
      "Will train until valid-auc hasn't improved in 100 rounds.\n",
      "[10]\ttrain-auc:0.67445\tvalid-auc:0.664971\n",
      "[20]\ttrain-auc:0.776471\tvalid-auc:0.763256\n",
      "[30]\ttrain-auc:0.777327\tvalid-auc:0.763767\n",
      "[40]\ttrain-auc:0.811607\tvalid-auc:0.788624\n",
      "[50]\ttrain-auc:0.852808\tvalid-auc:0.83401\n",
      "[60]\ttrain-auc:0.867626\tvalid-auc:0.849747\n",
      "[70]\ttrain-auc:0.883011\tvalid-auc:0.85689\n",
      "[80]\ttrain-auc:0.887141\tvalid-auc:0.854816\n",
      "[90]\ttrain-auc:0.895186\tvalid-auc:0.854887\n",
      "[100]\ttrain-auc:0.90566\tvalid-auc:0.858986\n",
      "[110]\ttrain-auc:0.917534\tvalid-auc:0.862283\n",
      "[120]\ttrain-auc:0.926425\tvalid-auc:0.865096\n",
      "[130]\ttrain-auc:0.935011\tvalid-auc:0.866629\n",
      "[140]\ttrain-auc:0.943833\tvalid-auc:0.868848\n",
      "[150]\ttrain-auc:0.949515\tvalid-auc:0.873333\n",
      "[160]\ttrain-auc:0.952433\tvalid-auc:0.874877\n",
      "[170]\ttrain-auc:0.954084\tvalid-auc:0.875752\n",
      "[180]\ttrain-auc:0.956307\tvalid-auc:0.876659\n",
      "[190]\ttrain-auc:0.958064\tvalid-auc:0.877224\n",
      "[200]\ttrain-auc:0.958777\tvalid-auc:0.877618\n",
      "[210]\ttrain-auc:0.959931\tvalid-auc:0.877523\n",
      "[220]\ttrain-auc:0.961524\tvalid-auc:0.878495\n",
      "[230]\ttrain-auc:0.962609\tvalid-auc:0.878647\n",
      "[240]\ttrain-auc:0.963884\tvalid-auc:0.878837\n",
      "[250]\ttrain-auc:0.96562\tvalid-auc:0.880035\n",
      "[260]\ttrain-auc:0.967217\tvalid-auc:0.881208\n",
      "[270]\ttrain-auc:0.968215\tvalid-auc:0.88164\n",
      "[280]\ttrain-auc:0.968871\tvalid-auc:0.882387\n",
      "[290]\ttrain-auc:0.969985\tvalid-auc:0.88325\n",
      "[300]\ttrain-auc:0.970943\tvalid-auc:0.883571\n",
      "[310]\ttrain-auc:0.971974\tvalid-auc:0.883317\n",
      "[320]\ttrain-auc:0.972586\tvalid-auc:0.883088\n",
      "[330]\ttrain-auc:0.973746\tvalid-auc:0.883137\n",
      "[340]\ttrain-auc:0.974904\tvalid-auc:0.883701\n",
      "[350]\ttrain-auc:0.97548\tvalid-auc:0.883511\n",
      "[360]\ttrain-auc:0.976314\tvalid-auc:0.883468\n",
      "[370]\ttrain-auc:0.976862\tvalid-auc:0.882924\n",
      "[380]\ttrain-auc:0.97742\tvalid-auc:0.88286\n",
      "[390]\ttrain-auc:0.978112\tvalid-auc:0.883331\n",
      "[400]\ttrain-auc:0.978631\tvalid-auc:0.883033\n",
      "[410]\ttrain-auc:0.979119\tvalid-auc:0.883081\n",
      "[420]\ttrain-auc:0.9797\tvalid-auc:0.882945\n",
      "[430]\ttrain-auc:0.980276\tvalid-auc:0.882897\n",
      "[440]\ttrain-auc:0.980609\tvalid-auc:0.883172\n",
      "Stopping. Best iteration:\n",
      "[343]\ttrain-auc:0.975027\tvalid-auc:0.883815\n",
      "\n",
      "[ 0.00058005  0.00035583  0.00072407 ...,  0.00609252  0.00071623\n",
      "  0.00194169]\n",
      "[  3.53571121e-03   1.13011943e-02   7.73122520e-05 ...,   1.68988714e-04\n",
      "   1.75531791e-03   1.26759871e-04]\n",
      "[0]\ttrain-auc:0.665004\tvalid-auc:0.683074\n",
      "Multiple eval metrics have been passed: 'valid-auc' will be used for early stopping.\n",
      "\n",
      "Will train until valid-auc hasn't improved in 100 rounds.\n",
      "[10]\ttrain-auc:0.743598\tvalid-auc:0.763482\n",
      "[20]\ttrain-auc:0.778949\tvalid-auc:0.793176\n",
      "[30]\ttrain-auc:0.779815\tvalid-auc:0.793739\n",
      "[40]\ttrain-auc:0.812258\tvalid-auc:0.810374\n",
      "[50]\ttrain-auc:0.865516\tvalid-auc:0.844\n",
      "[60]\ttrain-auc:0.878966\tvalid-auc:0.849806\n",
      "[70]\ttrain-auc:0.886679\tvalid-auc:0.851929\n",
      "[80]\ttrain-auc:0.898332\tvalid-auc:0.851541\n",
      "[90]\ttrain-auc:0.903704\tvalid-auc:0.857683\n",
      "[100]\ttrain-auc:0.917988\tvalid-auc:0.857451\n",
      "[110]\ttrain-auc:0.930786\tvalid-auc:0.859288\n",
      "[120]\ttrain-auc:0.941502\tvalid-auc:0.861008\n",
      "[130]\ttrain-auc:0.948678\tvalid-auc:0.862565\n",
      "[140]\ttrain-auc:0.953341\tvalid-auc:0.862335\n",
      "[150]\ttrain-auc:0.957555\tvalid-auc:0.863221\n",
      "[160]\ttrain-auc:0.960796\tvalid-auc:0.865964\n",
      "[170]\ttrain-auc:0.962204\tvalid-auc:0.866529\n",
      "[180]\ttrain-auc:0.96355\tvalid-auc:0.867766\n",
      "[190]\ttrain-auc:0.965816\tvalid-auc:0.869181\n",
      "[200]\ttrain-auc:0.967128\tvalid-auc:0.869925\n",
      "[210]\ttrain-auc:0.967872\tvalid-auc:0.869334\n",
      "[220]\ttrain-auc:0.968574\tvalid-auc:0.869279\n",
      "[230]\ttrain-auc:0.96913\tvalid-auc:0.869647\n",
      "[240]\ttrain-auc:0.970378\tvalid-auc:0.870903\n",
      "[250]\ttrain-auc:0.971705\tvalid-auc:0.870398\n",
      "[260]\ttrain-auc:0.972646\tvalid-auc:0.870222\n",
      "[270]\ttrain-auc:0.973057\tvalid-auc:0.869603\n",
      "[280]\ttrain-auc:0.973861\tvalid-auc:0.869552\n",
      "[290]\ttrain-auc:0.974273\tvalid-auc:0.869073\n",
      "[300]\ttrain-auc:0.975051\tvalid-auc:0.868729\n",
      "[310]\ttrain-auc:0.975585\tvalid-auc:0.868533\n",
      "[320]\ttrain-auc:0.976202\tvalid-auc:0.86818\n",
      "[330]\ttrain-auc:0.976576\tvalid-auc:0.867925\n",
      "[340]\ttrain-auc:0.976866\tvalid-auc:0.867677\n",
      "Stopping. Best iteration:\n",
      "[241]\ttrain-auc:0.970675\tvalid-auc:0.871107\n",
      "\n",
      "[ 0.00121027  0.00033661  0.00070194 ...,  0.00241614  0.00322492\n",
      "  0.00449121]\n",
      "[ 0.00458103  0.01663665  0.00041089 ...,  0.00034239  0.01152104\n",
      "  0.00226677]\n",
      "[0]\ttrain-auc:0.676573\tvalid-auc:0.681424\n",
      "Multiple eval metrics have been passed: 'valid-auc' will be used for early stopping.\n",
      "\n",
      "Will train until valid-auc hasn't improved in 100 rounds.\n",
      "[10]\ttrain-auc:0.754621\tvalid-auc:0.751105\n",
      "[20]\ttrain-auc:0.781724\tvalid-auc:0.78064\n",
      "[30]\ttrain-auc:0.784421\tvalid-auc:0.781078\n",
      "[40]\ttrain-auc:0.816512\tvalid-auc:0.812565\n",
      "[50]\ttrain-auc:0.853219\tvalid-auc:0.843576\n",
      "[60]\ttrain-auc:0.870972\tvalid-auc:0.855526\n",
      "[70]\ttrain-auc:0.888023\tvalid-auc:0.864031\n",
      "[80]\ttrain-auc:0.895929\tvalid-auc:0.867361\n",
      "[90]\ttrain-auc:0.912345\tvalid-auc:0.874027\n",
      "[100]\ttrain-auc:0.922943\tvalid-auc:0.875115\n",
      "[110]\ttrain-auc:0.928449\tvalid-auc:0.875809\n",
      "[120]\ttrain-auc:0.936163\tvalid-auc:0.878797\n",
      "[130]\ttrain-auc:0.943677\tvalid-auc:0.881862\n",
      "[140]\ttrain-auc:0.949935\tvalid-auc:0.883189\n",
      "[150]\ttrain-auc:0.954271\tvalid-auc:0.883798\n",
      "[160]\ttrain-auc:0.956401\tvalid-auc:0.883437\n",
      "[170]\ttrain-auc:0.95866\tvalid-auc:0.882389\n",
      "[180]\ttrain-auc:0.960582\tvalid-auc:0.880788\n",
      "[190]\ttrain-auc:0.961932\tvalid-auc:0.880389\n",
      "[200]\ttrain-auc:0.963256\tvalid-auc:0.880194\n",
      "[210]\ttrain-auc:0.964712\tvalid-auc:0.878348\n",
      "[220]\ttrain-auc:0.965983\tvalid-auc:0.877075\n",
      "[230]\ttrain-auc:0.967106\tvalid-auc:0.876854\n",
      "[240]\ttrain-auc:0.968511\tvalid-auc:0.876281\n",
      "[250]\ttrain-auc:0.969774\tvalid-auc:0.874987\n",
      "Stopping. Best iteration:\n",
      "[156]\ttrain-auc:0.955654\tvalid-auc:0.884058\n",
      "\n",
      "[ 0.00066282  0.00072644  0.00100093 ...,  0.00201289  0.00645419\n",
      "  0.00322864]\n",
      "[ 0.00498751  0.005218    0.00055124 ...,  0.00040699  0.00624577\n",
      "  0.00032367]\n",
      "[0]\ttrain-auc:0.671203\tvalid-auc:0.714486\n",
      "Multiple eval metrics have been passed: 'valid-auc' will be used for early stopping.\n",
      "\n",
      "Will train until valid-auc hasn't improved in 100 rounds.\n",
      "[10]\ttrain-auc:0.74501\tvalid-auc:0.791633\n",
      "[20]\ttrain-auc:0.772866\tvalid-auc:0.80593\n",
      "[30]\ttrain-auc:0.773549\tvalid-auc:0.806719\n",
      "[40]\ttrain-auc:0.828893\tvalid-auc:0.83592\n",
      "[50]\ttrain-auc:0.845461\tvalid-auc:0.844661\n",
      "[60]\ttrain-auc:0.867531\tvalid-auc:0.85421\n",
      "[70]\ttrain-auc:0.877556\tvalid-auc:0.856884\n",
      "[80]\ttrain-auc:0.893959\tvalid-auc:0.864933\n",
      "[90]\ttrain-auc:0.900929\tvalid-auc:0.871998\n",
      "[100]\ttrain-auc:0.917015\tvalid-auc:0.882405\n"
     ]
    },
    {
     "name": "stdout",
     "output_type": "stream",
     "text": [
      "[110]\ttrain-auc:0.925539\tvalid-auc:0.887694\n",
      "[120]\ttrain-auc:0.938562\tvalid-auc:0.890325\n",
      "[130]\ttrain-auc:0.946919\tvalid-auc:0.893134\n",
      "[140]\ttrain-auc:0.952001\tvalid-auc:0.89474\n",
      "[150]\ttrain-auc:0.95653\tvalid-auc:0.895435\n",
      "[160]\ttrain-auc:0.958307\tvalid-auc:0.895526\n",
      "[170]\ttrain-auc:0.959952\tvalid-auc:0.895212\n",
      "[180]\ttrain-auc:0.961376\tvalid-auc:0.894712\n",
      "[190]\ttrain-auc:0.962857\tvalid-auc:0.894948\n",
      "[200]\ttrain-auc:0.964533\tvalid-auc:0.894842\n",
      "[210]\ttrain-auc:0.965494\tvalid-auc:0.89512\n",
      "[220]\ttrain-auc:0.966694\tvalid-auc:0.895075\n",
      "[230]\ttrain-auc:0.968043\tvalid-auc:0.895292\n",
      "[240]\ttrain-auc:0.969185\tvalid-auc:0.894568\n",
      "[250]\ttrain-auc:0.970062\tvalid-auc:0.893954\n",
      "Stopping. Best iteration:\n",
      "[152]\ttrain-auc:0.9571\tvalid-auc:0.896101\n",
      "\n",
      "[ 0.00095534  0.00033603  0.00098504 ...,  0.00293626  0.00104929\n",
      "  0.00167833]\n",
      "[ 0.00252254  0.00585182  0.00036953 ...,  0.00054842  0.00632386\n",
      "  0.00024165]\n"
     ]
    }
   ],
   "source": [
    "from sklearn.linear_model import LogisticRegression\n",
    "from sklearn.model_selection import KFold\n",
    "from xgboost import XGBClassifier\n",
    "import xgboost as xgb\n",
    "import pickle\n",
    "\n",
    "\n",
    "xgb_preds_valid = []\n",
    "xgb_preds_test = []\n",
    "\n",
    "for i in range(1,11):\n",
    "\n",
    "    train_1_sample1 = train.loc[train['click'] == 1].sample(n=500, random_state = i)\n",
    "#     validation_1_sample1 = validation.loc[validation['click'] == 1].sample(n=200)\n",
    "\n",
    "    train_downsample_0 = train.loc[train['click'] == 0].sample(n=100000, random_state = i)\n",
    "#     train_downsample = pd.concat([train_1_sample1, validation_1_sample1, train_downsample_0], ignore_index=True)\n",
    "    train_downsample = pd.concat([train_1_sample1, train_downsample_0], ignore_index=True)\n",
    "    train_downsample = train_downsample.sample(frac=1).reset_index(drop=True)\n",
    "    train_x_downsample = train_downsample.iloc[:,1:]\n",
    "    train_y_downsample = train_downsample.iloc[:,0]\n",
    "    \n",
    "    train_1_sample2 = train.loc[train['click'] == 1].sample(n=250, random_state = i+1)\n",
    "#     validation_1_sample2 = validation.loc[validation['click'] == 1].sample(n=125, random_state = i)\n",
    "#     train_1_sample2 = train.loc[train['click'] == 1].sample(n=1500)\n",
    "    \n",
    "    validation_downsample_0 = train.loc[train['click'] == 0].sample(n=50000, random_state = i+1)\n",
    "#     validation_downsample = pd.concat([train_1_sample2, validation_1_sample2, validation_downsample_0], ignore_index=True)\n",
    "    validation_downsample = pd.concat([train_1_sample2, validation_downsample_0], ignore_index=True)\n",
    "    validation_downsample = validation_downsample.sample(frac=1).reset_index(drop=True)\n",
    "    valid_x_downsample = validation_downsample.iloc[:,1:]\n",
    "    valid_y_downsample = validation_downsample.iloc[:,0]\n",
    "    \n",
    "    model = XGBClassifier()\n",
    "\n",
    "    xgb_params = {'n_estimators': 50,'eta': 0.05, 'max_depth': 8, 'objective': 'binary:logistic', 'eval_metric': 'auc', 'seed': 99, 'silent': True}\n",
    "\n",
    "    d_train = xgb.DMatrix(train_x_downsample, train_y_downsample)\n",
    "    d_valid = xgb.DMatrix(valid_x_downsample, valid_y_downsample)\n",
    "    d_test_valid = xgb.DMatrix(validation_x)\n",
    "    d_test_test = xgb.DMatrix(test)\n",
    "\n",
    "    watchlist = [(d_train, 'train'), (d_valid, 'valid')]\n",
    "    model = xgb.train(xgb_params, d_train, 5000,  watchlist, maximize=False, verbose_eval=10, early_stopping_rounds=100)\n",
    "    \n",
    "    model_name = \"train_val_test_\" + str(i) + \".dat\"\n",
    "    pickle.dump(model, open(model_name, \"wb\"))\n",
    "    \n",
    "    xgb_pred_valid = model.predict(d_test_valid)\n",
    "    print(xgb_pred_valid)\n",
    "    xgb_preds_valid.append(list(xgb_pred_valid))\n",
    "    \n",
    "    xgb_pred_test = model.predict(d_test_test)\n",
    "    print(xgb_pred_test)\n",
    "    xgb_preds_test.append(list(xgb_pred_test))\n"
   ]
  },
  {
   "cell_type": "code",
   "execution_count": 57,
   "metadata": {
    "collapsed": true
   },
   "outputs": [],
   "source": [
    "# import xgboost as xgb\n",
    "# import pickle\n",
    "\n",
    "# xgb_preds_valid = []\n",
    "# xgb_preds_test = []\n",
    "# d_test_valid = xgb.DMatrix(validation_x)\n",
    "# d_test_test = xgb.DMatrix(test)\n",
    "    \n",
    "# for i in range(1,6):\n",
    "#     model_name = \"train_val_\" + str(i) + \".dat\"\n",
    "#     loaded_model = pickle.load(open(model_name, 'rb'))\n",
    "#     xgb_pred_valid = loaded_model.predict(d_test_valid)\n",
    "#     print(xgb_pred_valid)\n",
    "#     xgb_preds_valid.append(list(xgb_pred_valid))\n",
    "    \n",
    "#     xgb_pred_test = loaded_model.predict(d_test_test)\n",
    "#     print(xgb_pred_test)\n",
    "#     xgb_preds_test.append(list(xgb_pred_test))\n"
   ]
  },
  {
   "cell_type": "code",
   "execution_count": 169,
   "metadata": {
    "collapsed": true
   },
   "outputs": [],
   "source": [
    "preds_valid=[]\n",
    "for i in range(len(xgb_preds_valid[0])):\n",
    "    sum=0\n",
    "    for j in range(10):\n",
    "        sum+=xgb_preds_valid[j][i]\n",
    "    preds_valid.append(sum / 10)"
   ]
  },
  {
   "cell_type": "code",
   "execution_count": 170,
   "metadata": {
    "collapsed": true
   },
   "outputs": [],
   "source": [
    "preds_test=[]\n",
    "for i in range(len(xgb_preds_test[0])):\n",
    "    sum=0\n",
    "    for j in range(10):\n",
    "        sum+=xgb_preds_test[j][i]\n",
    "    preds_test.append(sum / 10)"
   ]
  },
  {
   "cell_type": "code",
   "execution_count": 154,
   "metadata": {
    "collapsed": true
   },
   "outputs": [],
   "source": [
    "# import random\n",
    "# import pandas as pd\n",
    "# train_for_CTR = pd.read_csv('..\\\\Coursework\\\\Dataset\\\\train.csv', usecols=('payprice','click'))\n",
    "# val = pd.read_csv('..\\\\Coursework\\\\Dataset\\\\validation.csv')\n",
    "\n",
    "# random.seed(a=5)\n",
    "# index_list = random.sample(range(0, 303925), 303925)\n",
    "# val_payprice_list = [val[\"payprice\"][i] for i in index_list]\n",
    "# val_clicks_list = [val[\"click\"][i] for i in index_list]\n",
    "# val_preds_list = [preds_valid[i] for i in index_list]\n",
    "\n",
    "# avgCTR = train_for_CTR['click'].sum()/train_for_CTR['click'].agg('count')"
   ]
  },
  {
   "cell_type": "code",
   "execution_count": 171,
   "metadata": {
    "collapsed": true
   },
   "outputs": [],
   "source": [
    "import pandas as pd\n",
    "train_for_CTR = pd.read_csv('..\\\\Coursework\\\\Dataset\\\\train.csv', usecols=('payprice','click'))\n",
    "val = pd.read_csv('..\\\\Coursework\\\\Dataset\\\\validation.csv')"
   ]
  },
  {
   "cell_type": "code",
   "execution_count": 174,
   "metadata": {},
   "outputs": [
    {
     "name": "stdout",
     "output_type": "stream",
     "text": [
      "0.000737562325662\n",
      "10 139 3536205\n",
      "11 140 3202853\n",
      "12 145 2872864\n",
      "13 150 2548323\n",
      "14 153 2219752\n",
      "15 156 1895387\n",
      "16 158 1572144\n",
      "17 158 1262915\n",
      "18 159 963202\n",
      "19 161 663909\n",
      "20 163 373862\n",
      "21 166 78762\n",
      "22 161 0\n",
      "23 150 0\n",
      "24 147 0\n",
      "25 145 0\n",
      "26 140 0\n",
      "27 137 0\n",
      "28 133 0\n",
      "29 130 0\n"
     ]
    }
   ],
   "source": [
    "avgCTR = train_for_CTR['click'].sum()/train_for_CTR['click'].agg('count')\n",
    "print(avgCTR)\n",
    "for basebid in range(10,30):\n",
    "    sum = 6250 * 1000\n",
    "    clicks = 0\n",
    "    for pay,click,pCTR in zip(val[\"payprice\"],val['click'],preds_valid):\n",
    "        sum_sub = sum - pay\n",
    "        bidprice = basebid * pCTR / avgCTR\n",
    "        if bidprice > 300:\n",
    "            bidprice = 300.1\n",
    "        if bidprice-pay > 0 and sum_sub >= 0:\n",
    "            sum = sum_sub\n",
    "            clicks += click\n",
    "    print(basebid, clicks, sum)"
   ]
  },
  {
   "cell_type": "code",
   "execution_count": 176,
   "metadata": {
    "scrolled": true
   },
   "outputs": [
    {
     "name": "stdout",
     "output_type": "stream",
     "text": [
      "0.000737562325662\n",
      "15 156 1895387\n",
      "16 158 1572144\n",
      "17 158 1262915\n",
      "18 159 963202\n",
      "19 161 663909\n",
      "20 163 373862\n",
      "21 166 78762\n",
      "22 159 0\n"
     ]
    }
   ],
   "source": [
    "import random\n",
    "from operator import itemgetter \n",
    "index_list = random.sample(range(0, 303925), 303925)\n",
    "val_payprice_list = [val[\"payprice\"][i] for i in index_list]\n",
    "val_clicks_list = [val[\"click\"][i] for i in index_list]\n",
    "val_preds_list = [preds_valid[i] for i in index_list]\n",
    "\n",
    "avgCTR = train_for_CTR['click'].sum()/train_for_CTR['click'].agg('count')\n",
    "print(avgCTR)\n",
    "for basebid in range(15,23):\n",
    "    sum = 6250 * 1000\n",
    "    clicks = 0\n",
    "    for pay,click,pCTR in zip(val_payprice_list,val_clicks_list,val_preds_list):\n",
    "        sum_sub = sum - pay\n",
    "        bidprice = basebid * pCTR / avgCTR\n",
    "        if bidprice-pay > 0 and sum_sub >= 0:\n",
    "            sum = sum_sub\n",
    "            clicks += click\n",
    "    print(basebid, clicks, sum)\n",
    "# 81"
   ]
  },
  {
   "cell_type": "code",
   "execution_count": 223,
   "metadata": {
    "collapsed": true
   },
   "outputs": [],
   "source": [
    "bidprice_loop_valid = [(21 * pred / avgCTR) for pred in preds_valid]\n",
    "bidprice_loop_test = [(21 * pred / avgCTR) for pred in preds_test]"
   ]
  },
  {
   "cell_type": "code",
   "execution_count": 224,
   "metadata": {},
   "outputs": [
    {
     "name": "stdout",
     "output_type": "stream",
     "text": [
      "9.2 154 289548\n",
      "9.32 160 292836\n",
      "9.44 163 296440\n",
      "9.56 164 300239\n",
      "9.68 166 303925\n",
      "9.8 166 303925\n",
      "9.92 166 303925\n",
      "10.04 164 303925\n",
      "10.16 164 303925\n",
      "10.28 163 303925\n",
      "10.4 163 303925\n"
     ]
    }
   ],
   "source": [
    "# OCTR 2\n",
    "lambda_num = 5.2e-7\n",
    "import random\n",
    "from operator import itemgetter \n",
    "import numpy as np\n",
    "import math\n",
    "\n",
    "# for lambda_num in np.linspace(7.05e-5,7.3e-5,10):\n",
    "for c_num in np.linspace(9.2,10.4,11):\n",
    "#     c_num = 9.65\n",
    "    lambda_num = 7.17e-05\n",
    "    sum = 6250 * 1000\n",
    "    n = 10\n",
    "    num = 0\n",
    "    clicks = 0\n",
    "#     print(c)\n",
    "    for pay,click,pCTR in zip(val[\"payprice\"],val['click'],preds_valid):\n",
    "        sum_sub = sum - pay      \n",
    "        sqrt_num = np.sqrt(((c_num**2)*(lambda_num**2))+(pCTR**2))\n",
    "        part_1 = (pCTR + sqrt_num) / (c_num*lambda_num)\n",
    "        part_2 = (c_num*lambda_num) / (pCTR + sqrt_num)\n",
    "        bidprice = n *(part_1 - part_2)       \n",
    "        if sum_sub >= 0:\n",
    "            num +=1\n",
    "        if bidprice-pay > 0 and sum_sub >= 0:\n",
    "            sum = sum_sub\n",
    "            clicks += click\n",
    "#     print(lambda_num, clicks, sum)\n",
    "    print(c_num, clicks, num)"
   ]
  },
  {
   "cell_type": "code",
   "execution_count": 225,
   "metadata": {
    "collapsed": true
   },
   "outputs": [],
   "source": [
    "bidprice_OCTR2_valid = []\n",
    "for pCTR in preds_valid:\n",
    "    sqrt_num = np.sqrt(((9.8**2)*(7.17e-05**2))+(pCTR**2))\n",
    "    part_1 = (pCTR + sqrt_num) / (9.8*7.17e-05)\n",
    "    part_2 = (9.8*7.17e-05) / (pCTR + sqrt_num)\n",
    "    bidprice = 10 *(part_1 - part_2)\n",
    "    bidprice_OCTR2_valid.append(bidprice)"
   ]
  },
  {
   "cell_type": "code",
   "execution_count": 226,
   "metadata": {
    "collapsed": true
   },
   "outputs": [],
   "source": [
    "bidprice_OCTR2_test = []\n",
    "for pCTR in preds_test:\n",
    "    sqrt_num = np.sqrt(((9.8**2)*(7.17e-05**2))+(pCTR**2))\n",
    "    part_1 = (pCTR + sqrt_num) / (9.8*7.17e-05)\n",
    "    part_2 = (9.8*7.17e-05) / (pCTR + sqrt_num)\n",
    "    bidprice = 10 *(part_1 - part_2)\n",
    "    bidprice_OCTR2_test.append(bidprice)"
   ]
  },
  {
   "cell_type": "code",
   "execution_count": 227,
   "metadata": {
    "collapsed": true
   },
   "outputs": [],
   "source": [
    "avg_bidprice_valid = []\n",
    "for i in range(0, len(bidprice_OCTR2_valid)):\n",
    "    avg_bid_valid = (bidprice_loop_valid[i] + bidprice_OCTR2_valid[i]) / 2\n",
    "    avg_bidprice_valid.append(avg_bid_valid)"
   ]
  },
  {
   "cell_type": "code",
   "execution_count": 228,
   "metadata": {
    "collapsed": true
   },
   "outputs": [],
   "source": [
    "avg_bidprice_test = []\n",
    "for i in range(0, len(bidprice_OCTR2_test)):\n",
    "    avg_bid_test = (bidprice_loop_test[i] + bidprice_OCTR2_test[i]) / 2\n",
    "    avg_bidprice_test.append(avg_bid_test)"
   ]
  },
  {
   "cell_type": "code",
   "execution_count": 248,
   "metadata": {},
   "outputs": [
    {
     "name": "stdout",
     "output_type": "stream",
     "text": [
      "166 79996\n"
     ]
    }
   ],
   "source": [
    "sum = 6250 * 1000\n",
    "clicks = 0\n",
    "win_rate = []\n",
    "bid_price = []\n",
    "for pay,click,price in zip(val[\"payprice\"],val['click'],avg_bidprice_valid):\n",
    "    sum_sub = sum - pay\n",
    "    bidprice = price\n",
    "    bid_price.append(bidprice)\n",
    "    if bidprice-pay > 0 and sum_sub >= 0:\n",
    "        sum = sum_sub\n",
    "        clicks += click\n",
    "        win_rate.append(\"True\")\n",
    "    else:\n",
    "        win_rate.append(\"False\")\n",
    "print(clicks, sum)"
   ]
  },
  {
   "cell_type": "code",
   "execution_count": 245,
   "metadata": {
    "collapsed": true
   },
   "outputs": [],
   "source": [
    "evaluation =pd.DataFrame(index=['Clicks', 'CTR', 'Spend','CPM', 'CPC'], columns=['Evaluation Metric'])"
   ]
  },
  {
   "cell_type": "code",
   "execution_count": 252,
   "metadata": {},
   "outputs": [
    {
     "name": "stdout",
     "output_type": "stream",
     "text": [
      "166 80849\n"
     ]
    }
   ],
   "source": [
    "sum = 6250 * 1000\n",
    "clicks = 0\n",
    "spend = 0\n",
    "impressions = 0\n",
    "for pay,click,price in zip(val[\"payprice\"],val['click'],bidprice_OCTR2_valid):\n",
    "    sum_sub = sum - pay\n",
    "    bidprice = price\n",
    "    if bidprice-pay > 0 and sum_sub >= 0:\n",
    "        impressions += 1\n",
    "        spend += pay\n",
    "        sum = sum_sub\n",
    "        clicks += click\n",
    "print(clicks, sum)\n",
    "evaluation.loc['Clicks', 'Evaluation Metric'] = clicks\n",
    "evaluation.loc['Spend', 'Evaluation Metric'] = spend / 1000\n",
    "evaluation.loc['CTR', 'Evaluation Metric'] = \"{:.2f}%\".format(clicks / impressions * 100)\n",
    "evaluation.loc['CPM', 'Evaluation Metric'] = \"{:.2f}\".format(spend / impressions)\n",
    "evaluation.loc['CPC', 'Evaluation Metric'] = \"{:.2f}\".format((spend / 1000) / clicks)"
   ]
  },
  {
   "cell_type": "code",
   "execution_count": 253,
   "metadata": {},
   "outputs": [
    {
     "name": "stdout",
     "output_type": "stream",
     "text": [
      "\\begin{tabular}{ll}\n",
      "\\toprule\n",
      "{} & Evaluation Metric \\\\\n",
      "\\midrule\n",
      "Clicks &               166 \\\\\n",
      "CTR    &             0.13\\% \\\\\n",
      "Spend  &           6169.15 \\\\\n",
      "CPM    &             46.78 \\\\\n",
      "CPC    &             37.16 \\\\\n",
      "\\bottomrule\n",
      "\\end{tabular}\n",
      "\n"
     ]
    }
   ],
   "source": [
    "print(evaluation.to_latex())"
   ]
  },
  {
   "cell_type": "code",
   "execution_count": 200,
   "metadata": {
    "collapsed": true
   },
   "outputs": [],
   "source": [
    "# # print(preds.shape)\n",
    "# avgCTR = train_for_CTR['click'].sum()/train_for_CTR['click'].agg('count')\n",
    "# # print(avgCTR)\n",
    "# bidprice = [(20 * pred / avgCTR) for pred in preds_test]\n",
    "# # print(bidprice)"
   ]
  },
  {
   "cell_type": "code",
   "execution_count": 223,
   "metadata": {
    "collapsed": true
   },
   "outputs": [],
   "source": [
    "# val[\"win rate\"] = win_rate\n",
    "# val[\"bid_price\"] = bid_price"
   ]
  },
  {
   "cell_type": "code",
   "execution_count": 3,
   "metadata": {},
   "outputs": [],
   "source": [
    "# val.loc[(val[\"win rate\"] == \"False\") & (val[\"click\"] == 1)]"
   ]
  },
  {
   "cell_type": "code",
   "execution_count": 233,
   "metadata": {
    "collapsed": true
   },
   "outputs": [],
   "source": [
    "test = pd.read_csv('..\\\\Coursework\\\\Dataset\\\\test.csv')\n",
    "csv_df = pd.DataFrame()\n",
    "csv_df['bidid'] = test['bidid']\n",
    "csv_df['bidprice'] = avg_bidprice_test\n",
    "csv_df.to_csv('test_bidprice1156.csv')\n",
    "# pd.DataFrame(bidprice).to_csv('test_bidprice.csv')"
   ]
  },
  {
   "cell_type": "code",
   "execution_count": 4,
   "metadata": {},
   "outputs": [
    {
     "name": "stdout",
     "output_type": "stream",
     "text": [
      "{\"ranking\": 6, \"group\": \"20\", \"result\": {\"impressions\": 131933, \"cost\": 6172.538000002265, \"clicks\": 179, \"ctr\": 0.0013567492590936309, \"cpc\": 34.48345251397914}, \"daily submission limit\": 3, \"today tried times\": 3, \"best result\": {\"impressions\": 131011, \"cost\": 6230.157000002232, \"clicks\": 179, \"ctr\": 0.0013662974864706017, \"cpc\": 34.805346368727555}}\n"
     ]
    },
    {
     "name": "stderr",
     "output_type": "stream",
     "text": [
      "  % Total    % Received % Xferd  Average Speed   Time    Time     Time  Current\n",
      "                                 Dload  Upload   Total   Spent    Left  Speed\n",
      "\n",
      "  0     0    0     0    0     0      0      0 --:--:-- --:--:-- --:--:--     0\n",
      "  0 15.5M    0     0    0     0      0      0 --:--:-- --:--:-- --:--:--     0\n",
      " 33 15.5M    0     0   33 5392k      0  5392k  0:00:02  0:00:01  0:00:01 3749k\n",
      " 72 15.5M    0     0   72 11.3M      0  5792k  0:00:02  0:00:02 --:--:-- 4751k\n",
      "100 15.5M    0     0  100 15.5M      0  5322k  0:00:03  0:00:03 --:--:-- 4275k\n",
      "100 15.5M  100   355  100 15.5M    118  5322k  0:00:03  0:00:03 --:--:-- 4275k\n"
     ]
    }
   ],
   "source": [
    "# PSL16u68d1n4\n",
    "# Linear regression(logistic regression for pctr) bidding strategy\n",
    "!curl http://deepmining.cs.ucl.ac.uk/api/upload/wining_criteria_1/PSL16u68d1n4 -X Post -F \"file=@test_bidprice1156.csv\""
   ]
  },
  {
   "cell_type": "code",
   "execution_count": null,
   "metadata": {
    "collapsed": true
   },
   "outputs": [],
   "source": []
  }
 ],
 "metadata": {
  "kernelspec": {
   "display_name": "Python 3",
   "language": "python",
   "name": "python3"
  },
  "language_info": {
   "codemirror_mode": {
    "name": "ipython",
    "version": 3
   },
   "file_extension": ".py",
   "mimetype": "text/x-python",
   "name": "python",
   "nbconvert_exporter": "python",
   "pygments_lexer": "ipython3",
   "version": "3.6.3"
  }
 },
 "nbformat": 4,
 "nbformat_minor": 2
}
