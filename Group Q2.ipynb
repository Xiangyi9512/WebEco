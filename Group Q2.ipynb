{
 "cells": [
  {
   "cell_type": "code",
   "execution_count": 271,
   "metadata": {
    "collapsed": true
   },
   "outputs": [],
   "source": [
    "import pandas as pd\n",
    "train = pd.read_csv('..\\\\Coursework\\\\Dataset\\\\train.csv', usecols=[\"payprice\",\"click\"])\n",
    "val = pd.read_csv('..\\\\Coursework\\\\Dataset\\\\validation.csv', usecols=[\"payprice\",\"click\"])\n",
    "# valli = pd.read_csv('..\\\\Coursework\\\\Dataset\\\\validation.csv', usecols=[\"usertag\",\"payprice\",\"click\"])"
   ]
  },
  {
   "cell_type": "code",
   "execution_count": 272,
   "metadata": {
    "scrolled": true
   },
   "outputs": [
    {
     "data": {
      "text/html": [
       "<div>\n",
       "<style scoped>\n",
       "    .dataframe tbody tr th:only-of-type {\n",
       "        vertical-align: middle;\n",
       "    }\n",
       "\n",
       "    .dataframe tbody tr th {\n",
       "        vertical-align: top;\n",
       "    }\n",
       "\n",
       "    .dataframe thead th {\n",
       "        text-align: right;\n",
       "    }\n",
       "</style>\n",
       "<table border=\"1\" class=\"dataframe\">\n",
       "  <thead>\n",
       "    <tr style=\"text-align: right;\">\n",
       "      <th></th>\n",
       "      <th>click</th>\n",
       "      <th>payprice</th>\n",
       "    </tr>\n",
       "  </thead>\n",
       "  <tbody>\n",
       "    <tr>\n",
       "      <th>0</th>\n",
       "      <td>0</td>\n",
       "      <td>23</td>\n",
       "    </tr>\n",
       "    <tr>\n",
       "      <th>1</th>\n",
       "      <td>0</td>\n",
       "      <td>75</td>\n",
       "    </tr>\n",
       "    <tr>\n",
       "      <th>2</th>\n",
       "      <td>0</td>\n",
       "      <td>65</td>\n",
       "    </tr>\n",
       "    <tr>\n",
       "      <th>3</th>\n",
       "      <td>0</td>\n",
       "      <td>6</td>\n",
       "    </tr>\n",
       "    <tr>\n",
       "      <th>4</th>\n",
       "      <td>0</td>\n",
       "      <td>5</td>\n",
       "    </tr>\n",
       "  </tbody>\n",
       "</table>\n",
       "</div>"
      ],
      "text/plain": [
       "   click  payprice\n",
       "0      0        23\n",
       "1      0        75\n",
       "2      0        65\n",
       "3      0         6\n",
       "4      0         5"
      ]
     },
     "execution_count": 272,
     "metadata": {},
     "output_type": "execute_result"
    }
   ],
   "source": [
    "val.head()"
   ]
  },
  {
   "cell_type": "code",
   "execution_count": 273,
   "metadata": {},
   "outputs": [],
   "source": [
    "# random.seed(33)\n",
    "train_payprice = train[\"payprice\"].sample(303925, random_state = 99)\n",
    "train_click = train['click'].loc[train_payprice.index]\n",
    "# train_payprice"
   ]
  },
  {
   "cell_type": "code",
   "execution_count": 274,
   "metadata": {},
   "outputs": [],
   "source": [
    "# random.seed(33)\n",
    "validation_payprice = val[\"payprice\"].sample(303925, random_state = 5)\n",
    "validation_click = val['click'].loc[validation_payprice.index]\n",
    "# validation_payprice"
   ]
  },
  {
   "cell_type": "code",
   "execution_count": 275,
   "metadata": {},
   "outputs": [],
   "source": [
    "# from random import randint\n",
    "# lowerbound = 69\n",
    "# upperbound = 93\n",
    "\n",
    "# import random\n",
    "\n",
    "\n",
    "# while lowerbound<upperbound:\n",
    "#     sum = 6250 * 1000\n",
    "#     clicks = 0\n",
    "#     random.seed(33)\n",
    "#     for pay,click in zip(val['payprice'],val['click']):\n",
    "#         sum_sub = sum - pay\n",
    "#         bidprice = random.uniform(lowerbound, upperbound)\n",
    "#         if bidprice-pay > 0 and sum_sub >= 0:\n",
    "#             sum = sum_sub\n",
    "#             clicks += click\n",
    "#     print(lowerbound, upperbound, clicks)\n",
    "#     lowerbound += 1"
   ]
  },
  {
   "cell_type": "code",
   "execution_count": 276,
   "metadata": {
    "collapsed": true
   },
   "outputs": [],
   "source": [
    "upper_bound = []\n",
    "lower_bound = []\n",
    "clicks_num = []"
   ]
  },
  {
   "cell_type": "code",
   "execution_count": 281,
   "metadata": {},
   "outputs": [
    {
     "name": "stdout",
     "output_type": "stream",
     "text": [
      "71 0\n"
     ]
    }
   ],
   "source": [
    "sum = 6250 * 1000\n",
    "clicks = 0\n",
    "spend = 0\n",
    "impressions = 0\n",
    "random.seed(33)\n",
    "for pay,click in zip(train_payprice,train_click):\n",
    "    sum_sub = sum - pay\n",
    "    bidprice = random.uniform(0, 300)\n",
    "    if bidprice-pay > 0 and sum_sub >= 0:\n",
    "        impressions += 1\n",
    "        spend += pay\n",
    "        sum = sum_sub\n",
    "        clicks += click\n",
    "print(clicks, sum)\n",
    "lower_bound.append(0)\n",
    "upper_bound.append(300)\n",
    "clicks_num.append(clicks)"
   ]
  },
  {
   "cell_type": "code",
   "execution_count": 278,
   "metadata": {},
   "outputs": [],
   "source": [
    "import matplotlib.pyplot as plt\n",
    "import numpy as np\n",
    "import matplotlib\n",
    "\n",
    "def print_fig(array_bidprice, array_clicks, count):\n",
    "\n",
    "    plt.figure(figsize=(15, 5))\n",
    "    plt.scatter(array_bidprice, array_clicks, marker = 'o')\n",
    "    plt.xlabel(\"Bid price\",fontsize=14, fontweight='bold')\n",
    "    plt.ylabel(\"Number of clicks\",fontsize=14, fontweight='bold')\n",
    "    plt.xticks( rotation='vertical',fontsize=14, fontweight='bold')\n",
    "    plt.yticks(fontsize=14, fontweight='bold')\n",
    "\n",
    "    plt.savefig('..\\\\Coursework\\\\graph\\\\random_bid_%i.eps' % (count), bbox_inches='tight')\n",
    "    plt.show()"
   ]
  },
  {
   "cell_type": "code",
   "execution_count": 279,
   "metadata": {},
   "outputs": [
    {
     "data": {
      "image/png": "[encoded data removed]",
      "text/plain": [
       "<matplotlib.figure.Figure at 0x1f99af7f8d0>"
      ]
     },
     "metadata": {},
     "output_type": "display_data"
    },
    {
     "name": "stdout",
     "output_type": "stream",
     "text": [
      "0 141 86\n"
     ]
    },
    {
     "data": {
      "image/png": "[encoded data removed]",
      "text/plain": [
       "<matplotlib.figure.Figure at 0x1f99b84bef0>"
      ]
     },
     "metadata": {},
     "output_type": "display_data"
    },
    {
     "name": "stdout",
     "output_type": "stream",
     "text": [
      "3 141 87\n"
     ]
    },
    {
     "data": {
      "image/png": "[encoded data removed]",
      "text/plain": [
       "<matplotlib.figure.Figure at 0x1f99bb09390>"
      ]
     },
     "metadata": {},
     "output_type": "display_data"
    },
    {
     "name": "stdout",
     "output_type": "stream",
     "text": [
      "3 140 87\n"
     ]
    },
    {
     "data": {
      "image/png": "[encoded data removed]",
      "text/plain": [
       "<matplotlib.figure.Figure at 0x1f99b9cf5c0>"
      ]
     },
     "metadata": {},
     "output_type": "display_data"
    },
    {
     "name": "stdout",
     "output_type": "stream",
     "text": [
      "4 140 87\n"
     ]
    },
    {
     "data": {
      "image/png": "[encoded data removed]",
      "text/plain": [
       "<matplotlib.figure.Figure at 0x1f99b513860>"
      ]
     },
     "metadata": {},
     "output_type": "display_data"
    }
   ],
   "source": [
    "from random import randint\n",
    "lowerbound = 0\n",
    "upperbound = 300\n",
    "\n",
    "import random\n",
    "\n",
    "for count in range(0,10):\n",
    "      \n",
    "    if count % 2 == 0:\n",
    "        array_bidprice = []\n",
    "        array_clicks = []\n",
    "        temp = upperbound\n",
    "        best_bound = 0\n",
    "        best_click = 0\n",
    "        while lowerbound < upperbound:\n",
    "            sum = 6250 * 1000\n",
    "            clicks = 0\n",
    "            random.seed(33)\n",
    "            for pay,click in zip(train_payprice,train_click):\n",
    "                sum_sub = sum - pay\n",
    "                bidprice = random.uniform(lowerbound, upperbound)\n",
    "                if bidprice-pay > 0 and sum_sub >= 0:\n",
    "                    sum = sum_sub\n",
    "                    clicks += click\n",
    "            if clicks >= best_click:\n",
    "                best_click = clicks\n",
    "                best_bound = upperbound\n",
    "#             print(lowerbound, upperbound, clicks)\n",
    "            array_bidprice.append(upperbound)\n",
    "            array_clicks.append(clicks)\n",
    "            upperbound -= 1\n",
    "        print_fig(array_bidprice, array_clicks, count)\n",
    "        upperbound = best_bound\n",
    "        if upperbound == temp:\n",
    "            break\n",
    "        print(lowerbound, upperbound, best_click)\n",
    "        lower_bound.append(lowerbound)\n",
    "        upper_bound.append(upperbound)\n",
    "        clicks_num.append(best_click)\n",
    "    else:\n",
    "        array_bidprice = []\n",
    "        array_clicks = []\n",
    "        temp = lowerbound\n",
    "        best_bound = 0\n",
    "        best_click = 0\n",
    "        while lowerbound < upperbound:\n",
    "            sum = 6250 * 1000\n",
    "            clicks = 0\n",
    "            random.seed(33)\n",
    "            for pay,click in zip(train_payprice,train_click):\n",
    "                sum_sub = sum - pay\n",
    "                bidprice = random.uniform(lowerbound, upperbound)\n",
    "                if bidprice-pay > 0 and sum_sub >= 0:\n",
    "                    sum = sum_sub\n",
    "                    clicks += click\n",
    "            if clicks >= best_click:\n",
    "                best_click = clicks\n",
    "                best_bound = lowerbound\n",
    "    #         print(lowerbound, upperbound, clicks)\n",
    "            array_bidprice.append(lowerbound)\n",
    "            array_clicks.append(clicks)\n",
    "            lowerbound += 1\n",
    "        print_fig(array_bidprice, array_clicks, count)\n",
    "        lowerbound = best_bound\n",
    "        if lowerbound == temp:\n",
    "            break\n",
    "        print(lowerbound, upperbound,best_click)\n",
    "        lower_bound.append(lowerbound)\n",
    "        upper_bound.append(upperbound)\n",
    "        clicks_num.append(best_click)"
   ]
  },
  {
   "cell_type": "code",
   "execution_count": 286,
   "metadata": {
    "collapsed": true
   },
   "outputs": [],
   "source": [
    "d1 = pd.DataFrame(index=['Round 0','Round 1', 'Round 2', 'Round 3', 'Round 4','Round 5'], columns=['Lower Bound', 'Upper Bound', 'Number of Clicks'])"
   ]
  },
  {
   "cell_type": "code",
   "execution_count": 287,
   "metadata": {},
   "outputs": [],
   "source": [
    "d1[\"Lower Bound\"] = lower_bound\n",
    "d1[\"Upper Bound\"] = upper_bound\n",
    "d1[\"Number of Clicks\"] = clicks_num"
   ]
  },
  {
   "cell_type": "code",
   "execution_count": 288,
   "metadata": {},
   "outputs": [
    {
     "name": "stdout",
     "output_type": "stream",
     "text": [
      "\\begin{tabular}{lrrr}\n",
      "\\toprule\n",
      "{} &  Lower Bound &  Upper Bound &  Number of Clicks \\\\\n",
      "\\midrule\n",
      "Round 0 &            0 &          150 &                82 \\\\\n",
      "Round 1 &            0 &          141 &                86 \\\\\n",
      "Round 2 &            3 &          141 &                87 \\\\\n",
      "Round 3 &            3 &          140 &                87 \\\\\n",
      "Round 4 &            4 &          140 &                87 \\\\\n",
      "Round 5 &            0 &          300 &                71 \\\\\n",
      "\\bottomrule\n",
      "\\end{tabular}\n",
      "\n"
     ]
    }
   ],
   "source": [
    "print(d1.to_latex())"
   ]
  },
  {
   "cell_type": "code",
   "execution_count": 284,
   "metadata": {},
   "outputs": [
    {
     "data": {
      "text/plain": [
       "6"
      ]
     },
     "execution_count": 284,
     "metadata": {},
     "output_type": "execute_result"
    }
   ],
   "source": [
    "len(upper_bound)"
   ]
  },
  {
   "cell_type": "code",
   "execution_count": 285,
   "metadata": {},
   "outputs": [
    {
     "name": "stdout",
     "output_type": "stream",
     "text": [
      "[150, 141, 141, 140, 140, 300] [0, 0, 3, 3, 4, 0] [82, 86, 87, 87, 87, 71]\n"
     ]
    }
   ],
   "source": [
    "print(upper_bound, lower_bound, clicks_num)"
   ]
  },
  {
   "cell_type": "code",
   "execution_count": 61,
   "metadata": {},
   "outputs": [
    {
     "name": "stdout",
     "output_type": "stream",
     "text": [
      "0 144\n",
      "21 144\n"
     ]
    }
   ],
   "source": [
    "# from random import randint\n",
    "# lowerbound = 0\n",
    "# upperbound = 150\n",
    "\n",
    "# import random\n",
    "\n",
    "# for count in range(0,10):\n",
    "      \n",
    "#     if count % 2 == 0:\n",
    "#         temp = upperbound\n",
    "#         best_bound = 0\n",
    "#         best_click = 0\n",
    "#         while lowerbound < upperbound:\n",
    "#             sum = 6250 * 1000\n",
    "#             clicks = 0\n",
    "#             random.seed(33)\n",
    "#             for pay,click in zip(validation_payprice, validation_click):\n",
    "#                 sum_sub = sum - pay\n",
    "#                 bidprice = random.uniform(lowerbound, upperbound)\n",
    "#                 if bidprice-pay > 0 and sum_sub >= 0:\n",
    "#                     sum = sum_sub\n",
    "#                     clicks += click\n",
    "#             if clicks >= best_click:\n",
    "#                 best_click = clicks\n",
    "#                 best_bound = upperbound\n",
    "#     #         print(lowerbound, upperbound, clicks)\n",
    "#             upperbound -= 1\n",
    "#         upperbound = best_bound\n",
    "#         if upperbound == temp:\n",
    "#             break\n",
    "#         print(lowerbound, upperbound)\n",
    "#     else:\n",
    "#         temp = lowerbound\n",
    "#         best_bound = 0\n",
    "#         best_click = 0\n",
    "#         while lowerbound < upperbound:\n",
    "#             sum = 6250 * 1000\n",
    "#             clicks = 0\n",
    "#             random.seed(33)\n",
    "#             for pay,click in zip(validation_payprice, validation_click):\n",
    "#                 sum_sub = sum - pay\n",
    "#                 bidprice = random.uniform(lowerbound, upperbound)\n",
    "#                 if bidprice-pay > 0 and sum_sub >= 0:\n",
    "#                     sum = sum_sub\n",
    "#                     clicks += click\n",
    "#             if clicks >= best_click:\n",
    "#                 best_click = clicks\n",
    "#                 best_bound = lowerbound\n",
    "#     #         print(lowerbound, upperbound, clicks)\n",
    "#             lowerbound += 1\n",
    "#         lowerbound = best_bound\n",
    "#         if lowerbound == temp:\n",
    "#             break\n",
    "#         print(lowerbound, upperbound)"
   ]
  },
  {
   "cell_type": "code",
   "execution_count": 71,
   "metadata": {
    "collapsed": true
   },
   "outputs": [],
   "source": [
    "evaluation =pd.DataFrame(index=['Clicks', 'CTR', 'Spend','CPM', 'CPC'], columns=['Evaluation Metric'])"
   ]
  },
  {
   "cell_type": "code",
   "execution_count": 289,
   "metadata": {},
   "outputs": [
    {
     "name": "stdout",
     "output_type": "stream",
     "text": [
      "74 0\n",
      "4 140\n"
     ]
    }
   ],
   "source": [
    "sum = 6250 * 1000\n",
    "clicks = 0\n",
    "spend = 0\n",
    "impressions = 0\n",
    "random.seed(33)\n",
    "for pay,click in zip(validation_payprice, validation_click):\n",
    "    sum_sub = sum - pay\n",
    "    bidprice = random.uniform(lowerbound, upperbound)\n",
    "#     bidprice = random.uniform(100,200)\n",
    "    if bidprice-pay > 0 and sum_sub >= 0:\n",
    "        impressions += 1\n",
    "        spend += pay\n",
    "        sum = sum_sub\n",
    "        clicks += click\n",
    "print(clicks, sum)\n",
    "print(lowerbound, upperbound)\n",
    "evaluation.loc['Clicks', 'Evaluation Metric'] = clicks\n",
    "evaluation.loc['Spend', 'Evaluation Metric'] = spend / 1000\n",
    "evaluation.loc['CTR', 'Evaluation Metric'] = \"{:.2f}%\".format(clicks / impressions * 100)\n",
    "evaluation.loc['CPM', 'Evaluation Metric'] = \"{:.2f}\".format(spend / impressions)\n",
    "evaluation.loc['CPC', 'Evaluation Metric'] = \"{:.2f}\".format((spend / 1000) / clicks)"
   ]
  },
  {
   "cell_type": "code",
   "execution_count": 290,
   "metadata": {},
   "outputs": [
    {
     "name": "stdout",
     "output_type": "stream",
     "text": [
      "\\begin{tabular}{ll}\n",
      "\\toprule\n",
      "{} & Evaluation Metric \\\\\n",
      "\\midrule\n",
      "Clicks &                74 \\\\\n",
      "CTR    &             0.05\\% \\\\\n",
      "Spend  &              6250 \\\\\n",
      "CPM    &             43.93 \\\\\n",
      "CPC    &             84.46 \\\\\n",
      "\\bottomrule\n",
      "\\end{tabular}\n",
      "\n"
     ]
    }
   ],
   "source": [
    "print(evaluation.to_latex())"
   ]
  },
  {
   "cell_type": "code",
   "execution_count": null,
   "metadata": {
    "collapsed": true
   },
   "outputs": [],
   "source": []
  }
 ],
 "metadata": {
  "kernelspec": {
   "display_name": "Python 3",
   "language": "python",
   "name": "python3"
  },
  "language_info": {
   "codemirror_mode": {
    "name": "ipython",
    "version": 3
   },
   "file_extension": ".py",
   "mimetype": "text/x-python",
   "name": "python",
   "nbconvert_exporter": "python",
   "pygments_lexer": "ipython3",
   "version": "3.6.3"
  }
 },
 "nbformat": 4,
 "nbformat_minor": 2
}
